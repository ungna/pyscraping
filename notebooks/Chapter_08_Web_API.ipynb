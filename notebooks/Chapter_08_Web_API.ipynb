{
 "cells": [
  {
   "cell_type": "markdown",
   "metadata": {},
   "source": [
    "# 8장 웹 API"
   ]
  },
  {
   "cell_type": "markdown",
   "metadata": {},
   "source": [
    "## 8.1 웹 API의 이해"
   ]
  },
  {
   "cell_type": "markdown",
   "metadata": {},
   "source": [
    "### 8.1.1 웹 API의 데이터 획득 과정"
   ]
  },
  {
   "cell_type": "markdown",
   "metadata": {},
   "source": [
    "### 8.1.2 웹 API의 인증 방식"
   ]
  },
  {
   "cell_type": "markdown",
   "metadata": {},
   "source": [
    "### 8.1.3 응답 데이터의 형식 및 처리"
   ]
  },
  {
   "cell_type": "markdown",
   "metadata": {},
   "source": [
    "#### JSON 데이터 형식"
   ]
  },
  {
   "cell_type": "markdown",
   "metadata": {},
   "source": [
    "#### JSON 데이터 변환 및 데이터 추출"
   ]
  },
  {
   "cell_type": "markdown",
   "metadata": {},
   "source": [
    "[8장: 341페이지]"
   ]
  },
  {
   "cell_type": "code",
   "execution_count": null,
   "metadata": {},
   "outputs": [],
   "source": [
    "import json\n",
    "\n",
    "python_dict = {\n",
    "    \"이름\": \"홍길동\",\n",
    "    \"나이\": 25,\n",
    "    \"거주지\": \"서울\",\n",
    "    \"신체정보\": {\n",
    "        \"키\": 175.4,\n",
    "        \"몸무게\": 71.2\n",
    "    },\n",
    "    \"취미\": [\n",
    "        \"등산\",\n",
    "        \"자전거타기\",\n",
    "        \"독서\"\n",
    "    ]\n",
    "}\n",
    "type(python_dict)"
   ]
  },
  {
   "cell_type": "code",
   "execution_count": null,
   "metadata": {},
   "outputs": [],
   "source": [
    "json_data = json.dumps(python_dict)\n",
    "type(json_data)"
   ]
  },
  {
   "cell_type": "markdown",
   "metadata": {},
   "source": [
    "[8장: 342페이지]"
   ]
  },
  {
   "cell_type": "code",
   "execution_count": null,
   "metadata": {},
   "outputs": [],
   "source": [
    "print(json_data)"
   ]
  },
  {
   "cell_type": "code",
   "execution_count": null,
   "metadata": {
    "scrolled": true
   },
   "outputs": [],
   "source": [
    "json_data = json.dumps(python_dict, indent=3, sort_keys=True, ensure_ascii=False)\n",
    "print(json_data)"
   ]
  },
  {
   "cell_type": "code",
   "execution_count": null,
   "metadata": {},
   "outputs": [],
   "source": [
    "dict_data = json.loads(json_data) # JSON 데이터를 파이썬의 딕셔너리 타입으로 변환\n",
    "type(dict_data)"
   ]
  },
  {
   "cell_type": "markdown",
   "metadata": {},
   "source": [
    "[8장: 343페이지]"
   ]
  },
  {
   "cell_type": "code",
   "execution_count": null,
   "metadata": {},
   "outputs": [],
   "source": [
    "dict_data['신체정보']['몸무게']"
   ]
  },
  {
   "cell_type": "code",
   "execution_count": null,
   "metadata": {},
   "outputs": [],
   "source": [
    "dict_data['취미']"
   ]
  },
  {
   "cell_type": "code",
   "execution_count": null,
   "metadata": {},
   "outputs": [],
   "source": [
    "dict_data['취미'][0]"
   ]
  },
  {
   "cell_type": "markdown",
   "metadata": {},
   "source": [
    "## 8.2 API 키 없이 시간 관련 데이터 가져오기 "
   ]
  },
  {
   "cell_type": "markdown",
   "metadata": {},
   "source": [
    "### 8.2.1 시간대 리스트와 현재 시각 데이터 가져오기"
   ]
  },
  {
   "cell_type": "markdown",
   "metadata": {},
   "source": [
    "[8장: 345페이지]"
   ]
  },
  {
   "cell_type": "code",
   "execution_count": null,
   "metadata": {},
   "outputs": [],
   "source": [
    "import requests  \n",
    "import json\n",
    "\n",
    "url = \"https://timeapi.io/api/TimeZone/AvailableTimeZones\"\n",
    "\n",
    "r = requests.get(url)\n",
    "r.text[:70] # 문자열 중 앞의 일부만 출력\n",
    "# r.text    # 문자열 전체를 출력"
   ]
  },
  {
   "cell_type": "markdown",
   "metadata": {},
   "source": [
    "[8장: 346페이지]"
   ]
  },
  {
   "cell_type": "code",
   "execution_count": null,
   "metadata": {},
   "outputs": [],
   "source": [
    "import requests  \n",
    "import json\n",
    "\n",
    "url = \"https://timeapi.io/api/Time/current/zone?timeZone=Asia/Seoul\"\n",
    "\n",
    "r = requests.get(url)\n",
    "print(r.text) "
   ]
  },
  {
   "cell_type": "code",
   "execution_count": null,
   "metadata": {},
   "outputs": [],
   "source": [
    "url = \"https://timeapi.io/api/Time/current/zone\" # 요청 주소\n",
    "parameters = {\"timeZone\": \"Asia/Seoul\"}          # 요청 매개 변수 생성\n",
    "\n",
    "r = requests.get(url, params=parameters)\n",
    "print(r.text) "
   ]
  },
  {
   "cell_type": "code",
   "execution_count": null,
   "metadata": {},
   "outputs": [],
   "source": [
    "json_to_dict = json.loads(r.text)\n",
    "type(json_to_dict)"
   ]
  },
  {
   "cell_type": "markdown",
   "metadata": {},
   "source": [
    "[8장: 347페이지]"
   ]
  },
  {
   "cell_type": "code",
   "execution_count": null,
   "metadata": {},
   "outputs": [],
   "source": [
    "json_to_dict = r.json() #JSON 형태의 데이터를 파이썬의 딕셔너리 타입으로 변환\n",
    "type(json_to_dict)"
   ]
  },
  {
   "cell_type": "code",
   "execution_count": null,
   "metadata": {},
   "outputs": [],
   "source": [
    "import requests\n",
    "import json\n",
    "\n",
    "url = \"https://timeapi.io/api/Time/current/zone?timeZone=Asia/Seoul\"\n",
    "\n",
    "date_time_dict = requests.get(url).json()\n",
    "type(date_time_dict)"
   ]
  },
  {
   "cell_type": "code",
   "execution_count": null,
   "metadata": {},
   "outputs": [],
   "source": [
    "date_time_dict"
   ]
  },
  {
   "cell_type": "markdown",
   "metadata": {},
   "source": [
    "[8장: 348페이지]"
   ]
  },
  {
   "cell_type": "code",
   "execution_count": null,
   "metadata": {},
   "outputs": [],
   "source": [
    "date_time_dict[\"dateTime\"], date_time_dict[\"timeZone\"], date_time_dict[\"dayOfWeek\"]"
   ]
  },
  {
   "cell_type": "markdown",
   "metadata": {},
   "source": [
    "### 8.2.2 시간대 변환 데이터 가져오기"
   ]
  },
  {
   "cell_type": "markdown",
   "metadata": {},
   "source": [
    "[8장: 349페이지]"
   ]
  },
  {
   "cell_type": "code",
   "execution_count": null,
   "metadata": {},
   "outputs": [],
   "source": [
    "import requests\n",
    "import json\n",
    "\n",
    "url = 'https://timeapi.io/api/Conversion/ConvertTimeZone' # 요청 주소\n",
    "\n",
    "from_time_zone = \"Asia/Seoul\"\n",
    "from_date_time = \"2022-10-03 10:03:00\"\n",
    "to_time_zone = \"UTC\" # GMT로 지정해도 결과는 동일\n",
    "\n",
    "headers = {\"Content-Type\": \"application/json\"}\n",
    "\n",
    "json_data = json.dumps({\"fromTimeZone\": from_time_zone,\n",
    "                        \"dateTime\": from_date_time,\n",
    "                        \"toTimeZone\": to_time_zone})\n",
    "\n",
    "r = requests.post(url, headers=headers, data=json_data) # POST 방법으로 요청해 응답받음\n",
    "ctz_json_to_dict = r.json()\n",
    "ctz_json_to_dict"
   ]
  },
  {
   "cell_type": "markdown",
   "metadata": {},
   "source": [
    "[8장: 350페이지]"
   ]
  },
  {
   "cell_type": "code",
   "execution_count": null,
   "metadata": {},
   "outputs": [],
   "source": [
    "import requests\n",
    "import json\n",
    "\n",
    "url = 'https://timeapi.io/api/Conversion/ConvertTimeZone' # 요청 주소\n",
    "\n",
    "from_time_zone = \"Asia/Seoul\"\n",
    "from_date_time = \"2022-10-03 10:03:00\"\n",
    "to_time_zone = \"GMT\" # UTC로 지정해도 결과는 동일\n",
    "\n",
    "dict_data = {\"fromTimeZone\": from_time_zone,\n",
    "              \"dateTime\": from_date_time,\n",
    "              \"toTimeZone\": to_time_zone}\n",
    "\n",
    "r = requests.post(url, json=dict_data) # POST 방법으로 요청해 응답받음\n",
    "ctz_json_to_dict = r.json()\n",
    "ctz_json_to_dict"
   ]
  },
  {
   "cell_type": "markdown",
   "metadata": {},
   "source": [
    "[8장: 351페이지]"
   ]
  },
  {
   "cell_type": "code",
   "execution_count": null,
   "metadata": {},
   "outputs": [],
   "source": [
    "dateTime = ctz_json_to_dict['conversionResult']['dateTime'] # 변환된 날짜와 시각 데이터를 추출\n",
    "to_date_time = f\"{dateTime.split('T')[0]} {dateTime.split('T')[1]}\"\n",
    "from_date_time, to_date_time"
   ]
  },
  {
   "cell_type": "markdown",
   "metadata": {},
   "source": [
    "## 8.3 RSS 피드 데이터 가져오기"
   ]
  },
  {
   "cell_type": "markdown",
   "metadata": {},
   "source": [
    "### 8.3.1 RSS 문서의 구조 및 데이터 추출"
   ]
  },
  {
   "cell_type": "markdown",
   "metadata": {},
   "source": [
    "[8장: 353페이지]"
   ]
  },
  {
   "cell_type": "code",
   "execution_count": null,
   "metadata": {},
   "outputs": [],
   "source": [
    "rss_simple_document = \"\"\"<?xml version=\"1.0\" encoding=\"UTF-8\" ?>\n",
    "<rss version=\"2.0\">\n",
    "\n",
    "<channel>\n",
    "  <title>파이썬 웹 스크레이핑 홈페이지</title>\n",
    "  <link>https://www.python_web_scraping.com</link>\n",
    "  <description>파이썬 웹 스크레이핑 설명</description>\n",
    "  <pubDate>Sat, 30 Apr 2022 15:39:19 GMT</pubDate>\n",
    "  <lastBuildDate>Sat, 30 Apr 2022 17:50:21 GMT</lastBuildDate>\n",
    "  <item>\n",
    "    <title>1장. 웹 스크레이핑</title>\n",
    "    <link>https://www.python_web_scraping.com/web_scraping.html</link>\n",
    "    <description>웹 스크레이핑 기본에 관한 교육</description>\n",
    "    <pubDate>Sat, 30 Apr 2022 00:30:00 GMT</pubDate>\n",
    "  </item>\n",
    "  <item>\n",
    "    <title>2장. 웹 API 교육</title>\n",
    "    <link>https://www.python_web_scraping.com/web_api.html</link>\n",
    "    <description>웹 API에 관한 교육</description>\n",
    "    <pubDate>Sat, 30 Apr 2022 09:45:12 GMT</pubDate>\n",
    "  </item>\n",
    "</channel>\n",
    "\n",
    "</rss>\"\"\""
   ]
  },
  {
   "cell_type": "markdown",
   "metadata": {},
   "source": [
    "[8장: 355페이지]"
   ]
  },
  {
   "cell_type": "code",
   "execution_count": null,
   "metadata": {},
   "outputs": [],
   "source": [
    "import feedparser\n",
    "\n",
    "d = feedparser.parse(rss_simple_document) # RSS 형식의 데이터를 파싱\n",
    "\n",
    "d.feed.title, d.feed.link, d.feed.description, d.feed.published, d.feed.updated"
   ]
  },
  {
   "cell_type": "code",
   "execution_count": null,
   "metadata": {},
   "outputs": [],
   "source": [
    "d[\"feed\"][\"title\"], d[\"feed\"][\"link\"], d[\"feed\"][\"description\"], d[\"feed\"][\"published\"], d[\"feed\"][\"updated\"]"
   ]
  },
  {
   "cell_type": "markdown",
   "metadata": {},
   "source": [
    "[8장: 356페이지]"
   ]
  },
  {
   "cell_type": "code",
   "execution_count": null,
   "metadata": {},
   "outputs": [],
   "source": [
    "d.entries[0].title, d.entries[0].link, d.entries[0].description, d.entries[0].published"
   ]
  },
  {
   "cell_type": "code",
   "execution_count": null,
   "metadata": {},
   "outputs": [],
   "source": [
    "d.entries[1].title, d.entries[1].link, d.entries[1].description, d.entries[1].published"
   ]
  },
  {
   "cell_type": "markdown",
   "metadata": {},
   "source": [
    "### 8.3.2 구글 뉴스의 검색 기사 가져오기"
   ]
  },
  {
   "cell_type": "markdown",
   "metadata": {},
   "source": [
    "[8장: 358페이지]"
   ]
  },
  {
   "cell_type": "code",
   "execution_count": null,
   "metadata": {},
   "outputs": [],
   "source": [
    "import feedparser\n",
    "\n",
    "query = \"머신러닝\"\n",
    "# RSS 서비스 주소\n",
    "rss_url = f'https://news.google.com/rss/search?q={query}&&hl=ko&gl=KR&ceid=KR:ko'\n",
    "rss_news = feedparser.parse(rss_url) # RSS 형식의 데이터를 파싱\n",
    "\n",
    "title = rss_news['feed']['title']\n",
    "updated = rss_news['feed']['updated']\n",
    "\n",
    "print(\"['구글 뉴스' RSS 피드 제목]\", title)\n",
    "print(\"['구글 뉴스' RSS 피드 제공 일시]\", updated)"
   ]
  },
  {
   "cell_type": "code",
   "execution_count": null,
   "metadata": {},
   "outputs": [],
   "source": [
    "from datetime import datetime, timedelta\n",
    "\n",
    "# RSS 피드 제공 일시를 한국 날짜와 시간으로 변경 하는 함수\n",
    "def get_local_datetime(rss_datetime):\n",
    "    # 전체 값 중에서 날짜와 시간만 문자열로 추출\n",
    "    date_time_str = ' '.join(rss_datetime.split()[1:5])\n",
    "    \n",
    "    # 문자열의 각 자리에 의미를 부여해 datetime 객체로 변경\n",
    "    date_time_GMT = datetime.strptime(date_time_str, '%d %b %Y %H:%M:%S')\n",
    "    \n",
    "    # GMT에 9시간을 더해 한국 시간대로 변경\n",
    "    date_time_KST = date_time_GMT + timedelta(hours=9)\n",
    "    \n",
    "    return date_time_KST # 변경된 시간대의 날짜와 시각 반환"
   ]
  },
  {
   "cell_type": "markdown",
   "metadata": {},
   "source": [
    "[8장: 359페이지]"
   ]
  },
  {
   "cell_type": "code",
   "execution_count": null,
   "metadata": {},
   "outputs": [],
   "source": [
    "print(\"['구글 뉴스' RSS 피드 제공 일시]\", get_local_datetime(updated))"
   ]
  },
  {
   "cell_type": "code",
   "execution_count": null,
   "metadata": {},
   "outputs": [],
   "source": [
    "import feedparser\n",
    "import pandas as pd\n",
    "\n",
    "df_gnews = pd.DataFrame(rss_news.entries) # 구글 뉴스 아이템을 판다스 DataFrame으로 변환\n",
    "\n",
    "selected_columns = ['title', 'published', 'link'] # 관심있는 열만 선택\n",
    "df_gnews2 = df_gnews[selected_columns].copy()     # 선택한 열만 다른 DataFrame으로 복사\n",
    "\n",
    "# published 열의 작성 일시를 한국 시간대로 변경\n",
    "df_gnews2['published'] = df_gnews2['published'].apply(get_local_datetime) \n",
    "\n",
    "df_gnews2.columns = ['제목', '제공 일시', '링크'] # 열 이름 변경\n",
    "df_gnews2.head(3)                                 # 앞의 일부만 출력"
   ]
  },
  {
   "cell_type": "markdown",
   "metadata": {},
   "source": [
    "[8장: 360페이지]"
   ]
  },
  {
   "cell_type": "code",
   "execution_count": null,
   "metadata": {
    "scrolled": true
   },
   "outputs": [],
   "source": [
    "from IPython.display import HTML\n",
    "\n",
    "df = df_gnews2.head(3) # DataFrame 데이터의 일부 열과 행을 선택\n",
    "# df = df_gnews2       # DataFrame 데이터 전체를 선택\n",
    "\n",
    "html_table = df.to_html(escape=False, render_links=True) # DataFrame 데이터를 HTML 코드로 변환\n",
    "HTML(html_table)  # HTML 코드의 내용을 웹 브라우저처럼 보여줌"
   ]
  },
  {
   "cell_type": "markdown",
   "metadata": {},
   "source": [
    "[8장: 361페이지]"
   ]
  },
  {
   "cell_type": "code",
   "execution_count": null,
   "metadata": {},
   "outputs": [],
   "source": [
    "from datetime import datetime, timedelta\n",
    "\n",
    "google_news_datetime_KST = get_local_datetime(updated) # 한국 날짜와 시간으로 변경 \n",
    "\n",
    "df = df_gnews2.head() # DataFrame 데이터 앞의 일부\n",
    "# df = df_gnews2 # DataFrame 데이터 전체\n",
    "\n",
    "# DataFrame 데이터를 HTML 코드로 변환 (justify='center' 옵션을 이용해 열 제목을 중간에 배치)\n",
    "html_table = df.to_html(justify='center', escape=False, render_links=True) \n",
    "\n",
    "# HTML 기본 구조를 갖는 HTML 코드\n",
    "html_code = '''\n",
    "<!DOCTYPE html>\n",
    "<html>\n",
    "  <head>\n",
    "    <title>구글 뉴스 검색</title>\n",
    "  </head>\n",
    "  <body>\n",
    "    <h1>{0}</h1>\n",
    "    <h3> *검색 날짜 및 시각: {1}</h3>\n",
    "    {2}\n",
    "  </body>\n",
    "</html>    \n",
    "'''.format(title, google_news_datetime_KST, html_table)\n",
    "\n",
    "file_name = \"C:/myPyScraping/data/ch08/google_news.html\" # 생성할 HTML 파일 이름 지정\n",
    "with open(file_name, 'w', encoding=\"utf-8\") as f:\n",
    "    f.write(html_code)\n",
    "    \n",
    "print(\"생성한 파일:\", file_name)"
   ]
  },
  {
   "cell_type": "markdown",
   "metadata": {},
   "source": [
    "## 8.4 스포티파이를 이용한 노래 데이터 가져오기"
   ]
  },
  {
   "cell_type": "markdown",
   "metadata": {},
   "source": [
    "### 8.4.1 앱 만들고 액세스 토큰 생성"
   ]
  },
  {
   "cell_type": "markdown",
   "metadata": {},
   "source": [
    "#### 개발자 웹 사이트에서 앱 만들기"
   ]
  },
  {
   "cell_type": "markdown",
   "metadata": {},
   "source": [
    "#### 액세스 토큰 생성"
   ]
  },
  {
   "cell_type": "markdown",
   "metadata": {},
   "source": [
    "[8장: 368페이지]"
   ]
  },
  {
   "cell_type": "code",
   "execution_count": null,
   "metadata": {
    "scrolled": true
   },
   "outputs": [],
   "source": [
    "import requests\n",
    "\n",
    "## 자신의 Client ID와 Client Secret 입력\n",
    "# CLIENT_ID = '5df50a2c54ab3b1987b03bd42af2ac09'\n",
    "# CLIENT_SECRET = '81ca98ebh0b74231b9c2c06269e9647d'\n",
    "\n",
    "url = 'https://accounts.spotify.com/api/token'\n",
    "\n",
    "auth_data = {'grant_type': 'client_credentials',\n",
    "              'client_id': CLIENT_ID,\n",
    "              'client_secret': CLIENT_SECRET}\n",
    "\n",
    "r = requests.post(url, data=auth_data) # POST 방법으로 응답을 요청\n",
    "r_token = r.json() # 응답 객체의 JSON 형식의 데이터를 딕셔너리 타입으로 변환\n",
    "r_token"
   ]
  },
  {
   "cell_type": "code",
   "execution_count": null,
   "metadata": {},
   "outputs": [],
   "source": [
    "def get_spotify_access_token(client_id, client_secret):\n",
    "    \n",
    "    url = 'https://accounts.spotify.com/api/token'\n",
    "\n",
    "    auth_data = {'grant_type': 'client_credentials',\n",
    "                  'client_id': client_id,\n",
    "                  'client_secret': client_secret}\n",
    "        \n",
    "    r = requests.post(url, data=auth_data) # POST 방법으로 응답을 요청\n",
    "    r_token = r.json() # 응답 객체의 text 부분을 JSON 형식으로 변환\n",
    "    \n",
    "    return r_token['access_token']"
   ]
  },
  {
   "cell_type": "markdown",
   "metadata": {},
   "source": [
    "[8장: 369페이지]"
   ]
  },
  {
   "cell_type": "code",
   "execution_count": null,
   "metadata": {},
   "outputs": [],
   "source": [
    "ACCESS_TOKEN = get_spotify_access_token(CLIENT_ID, CLIENT_SECRET)\n",
    "ACCESS_TOKEN"
   ]
  },
  {
   "cell_type": "markdown",
   "metadata": {},
   "source": [
    "### 8.4.2 아티스트 API로 아티스트 관련 정보 가져오기"
   ]
  },
  {
   "cell_type": "markdown",
   "metadata": {},
   "source": [
    "#### 아티스트 정보 가져오기"
   ]
  },
  {
   "cell_type": "markdown",
   "metadata": {},
   "source": [
    "[8장: 374페이지]"
   ]
  },
  {
   "cell_type": "code",
   "execution_count": null,
   "metadata": {},
   "outputs": [],
   "source": [
    "import requests\n",
    "\n",
    "def get_spotify_artist_info(artist_id):\n",
    "    url = \"https://api.spotify.com/v1/artists/{id}\".format(id=artist_id)\n",
    "    ACCESS_TOKEN = get_spotify_access_token(CLIENT_ID, CLIENT_SECRET)\n",
    "    headers = {\"Authorization\": \"Bearer \" + ACCESS_TOKEN}\n",
    "\n",
    "    r = requests.get(url, headers=headers)\n",
    "\n",
    "    return r.json()"
   ]
  },
  {
   "cell_type": "markdown",
   "metadata": {},
   "source": [
    "[8장: 375페이지]"
   ]
  },
  {
   "cell_type": "code",
   "execution_count": null,
   "metadata": {
    "scrolled": true
   },
   "outputs": [],
   "source": [
    "artist_id = \"3HqSLMAZ3g3d5poNaI7GOU\" # 아이유의 아티스트 ID\n",
    "artist_data = get_spotify_artist_info(artist_id)\n",
    "\n",
    "print(\"[아티스트 관련 정보]\")\n",
    "print(\"- 이름:\", artist_data['name'])\n",
    "print(\"- ID:\", artist_data['id'])\n",
    "print(\"- 장르:\", artist_data['genres'])\n",
    "print(\"- 인기도:\", artist_data['popularity'])"
   ]
  },
  {
   "cell_type": "code",
   "execution_count": null,
   "metadata": {
    "scrolled": true
   },
   "outputs": [],
   "source": [
    "artist_id = \"3Nrfpe0tUJi4K4DXYWgMUX\" # 방탄소년단(BTS)의 아티스트 ID\n",
    "artist_data = get_spotify_artist_info(artist_id)\n",
    "\n",
    "print(\"[아티스트 관련 정보]\")\n",
    "print(\"- 이름:\", artist_data['name'])\n",
    "print(\"- ID:\", artist_data['id'])\n",
    "print(\"- 장르:\", artist_data['genres'])\n",
    "print(\"- 인기도:\", artist_data['popularity'])"
   ]
  },
  {
   "cell_type": "markdown",
   "metadata": {},
   "source": [
    "#### 아티스트의 인기곡 정보 가져오기"
   ]
  },
  {
   "cell_type": "markdown",
   "metadata": {},
   "source": [
    "[8장: 379페이지]"
   ]
  },
  {
   "cell_type": "code",
   "execution_count": null,
   "metadata": {
    "scrolled": true
   },
   "outputs": [],
   "source": [
    "url = \"https://api.spotify.com/v1/markets\"\n",
    "\n",
    "ACCESS_TOKEN = get_spotify_access_token(CLIENT_ID, CLIENT_SECRET)\n",
    "headers = {\"Authorization\": \"Bearer \" + ACCESS_TOKEN}\n",
    "\n",
    "r = requests.get(url, headers=headers)\n",
    "r.text[:50] # 앞의 일부만 표시\n",
    "# r.text     # 전체 표시"
   ]
  },
  {
   "cell_type": "code",
   "execution_count": null,
   "metadata": {},
   "outputs": [],
   "source": [
    "def get_spotify_artist_top_tracks(artist_id, country_code):\n",
    "\n",
    "    url = \"https://api.spotify.com/v1/artists/{id}/top-tracks\".format(id=artist_id)\n",
    "    ACCESS_TOKEN = get_spotify_access_token(CLIENT_ID, CLIENT_SECRET)\n",
    "    headers = {\"Authorization\": \"Bearer \" + ACCESS_TOKEN}\n",
    "    parameters = {\"market\": country_code}\n",
    "    r = requests.get(url, params=parameters, headers=headers)\n",
    "\n",
    "    return r.json()"
   ]
  },
  {
   "cell_type": "markdown",
   "metadata": {},
   "source": [
    "[8장: 380페이지]"
   ]
  },
  {
   "cell_type": "code",
   "execution_count": null,
   "metadata": {},
   "outputs": [],
   "source": [
    "import pandas as pd\n",
    "\n",
    "artist_id = \"3HqSLMAZ3g3d5poNaI7GOU\" # 아이유의 아티스트 ID\n",
    "country_code = \"KR\" # 대한민국의 국가 코드\n",
    "\n",
    "# 인기곡 정보 JSON 객체 받기\n",
    "artist_top_tracks_data = get_spotify_artist_top_tracks(artist_id, country_code)\n",
    "# 인기곡 정보 JSON 데이터에서 곡 정보 객체 리스트 추출\n",
    "top_tracks = artist_top_tracks_data['tracks']\n",
    "\n",
    "[type(top_tracks), len(top_tracks)] # top_tracks의 타입과 개수 출력"
   ]
  },
  {
   "cell_type": "code",
   "execution_count": null,
   "metadata": {},
   "outputs": [],
   "source": [
    "top_tracks[0].keys() # 리스트의 첫 번째 요소로 있는 딕셔너리에서 키만 추출"
   ]
  },
  {
   "cell_type": "code",
   "execution_count": null,
   "metadata": {},
   "outputs": [],
   "source": [
    "# 리스트를 DataFrame 데이터로 변환\n",
    "df_artist_top_track = pd.DataFrame(top_tracks)\n",
    "# DataFrame 데이터에서 열 선택\n",
    "df_artist_top_track2 = df_artist_top_track[['artists', 'name', 'duration_ms', 'id', 'popularity']]\n",
    "\n",
    "df_artist_top_track2.head()"
   ]
  },
  {
   "cell_type": "markdown",
   "metadata": {},
   "source": [
    "[8장: 381페이지]"
   ]
  },
  {
   "cell_type": "code",
   "execution_count": null,
   "metadata": {},
   "outputs": [],
   "source": [
    "def get_artists(artists_info):\n",
    "    artists_name = []\n",
    "    for artist_info in artists_info:\n",
    "        name = artist_info['name'] # 아티스트 정보 중 이름만 추출\n",
    "        artists_name.append(name)  # 아티스트 이름을 리스트로 묶음\n",
    "    \n",
    "    artists_name_str = \", \".join(artists_name) # 리스트로 된 아티스트 이름을 문자열로 변환 \n",
    "    return artists_name_str"
   ]
  },
  {
   "cell_type": "code",
   "execution_count": null,
   "metadata": {
    "scrolled": true
   },
   "outputs": [],
   "source": [
    "df_artist_top_track3 = df_artist_top_track2.copy() # DataFrame 데이터 복사\n",
    "\n",
    "# get_artists() 함수를 artists 열의 각 항목에 적용\n",
    "df_artist_top_track3['artists'] = df_artist_top_track3['artists'].apply(get_artists)\n",
    "df_artist_top_track3.head()"
   ]
  },
  {
   "cell_type": "code",
   "execution_count": null,
   "metadata": {},
   "outputs": [],
   "source": [
    "def convert_msec(msec):\n",
    "    milliseconds = (msec%1000)\n",
    "    seconds = (msec/1000) % 60\n",
    "    seconds = int(seconds)\n",
    "    minutes = (msec/(1000*60)) % 60\n",
    "    minutes = int(minutes)\n",
    "    hours = (msec/(1000*60*60)) % 60\n",
    "    hours = int(hours)\n",
    "    \n",
    "    hms_str = \"{0:02d}:{1:02d}:{2:02d}.{3:03d}\".format(hours, minutes, seconds, milliseconds)\n",
    "    return hms_str"
   ]
  },
  {
   "cell_type": "markdown",
   "metadata": {},
   "source": [
    "[8장: 383페이지]"
   ]
  },
  {
   "cell_type": "code",
   "execution_count": null,
   "metadata": {},
   "outputs": [],
   "source": [
    "df_IU_top_track = df_artist_top_track3.copy() # DataFrame 데이터 복사\n",
    "\n",
    "# convert_msec() 함수를 duration_ms 열의 각 항목에 적용\n",
    "df_IU_top_track['duration_ms'] = df_IU_top_track['duration_ms'].apply(convert_msec) \n",
    "\n",
    "# duration_ms 열 이름을 duration로 변경\n",
    "df_IU_top_track.rename(columns={'duration_ms':'duration'}, inplace=True)\n",
    "df_IU_top_track.head()"
   ]
  },
  {
   "cell_type": "code",
   "execution_count": null,
   "metadata": {},
   "outputs": [],
   "source": [
    "df_IU_top_track.columns = [\"아티스트\", \"곡 제목\", \"곡의 길이\", \"곡 ID\", \"인기도\"] # 열 제목을 변경\n",
    "df_IU_top_track.head()"
   ]
  },
  {
   "cell_type": "markdown",
   "metadata": {},
   "source": [
    "[8장: 384페이지]"
   ]
  },
  {
   "cell_type": "code",
   "execution_count": null,
   "metadata": {},
   "outputs": [],
   "source": [
    "import pandas as pd\n",
    "\n",
    "def get_artist_top_track(artist_id, country_code):\n",
    "    # 인기곡 정보 JSON 객체 받기\n",
    "    artist_top_tracks_data = get_spotify_artist_top_tracks(artist_id, country_code)\n",
    "    # 인기곡 정보 JSON 데이터에서 곡 정보 객체 리스트 추출\n",
    "    top_tracks = artist_top_tracks_data['tracks']\n",
    "\n",
    "    # 리스트를 DataFrame 데이터로 변환\n",
    "    df_artist_top_track = pd.DataFrame(top_tracks)\n",
    "    # DataFrame 데이터에서 열 선택\n",
    "    df_artist_top_track2 = df_artist_top_track[['artists','name', 'duration_ms', 'id', 'popularity']]\n",
    "    \n",
    "    df_artist_top_track3 = df_artist_top_track2.copy() # DataFrame 데이터 복사\n",
    "    # get_artists() 함수를 artists 열의 각 항목에 적용\n",
    "    df_artist_top_track3['artists'] = df_artist_top_track3['artists'].apply(get_artists)\n",
    "\n",
    "    df_artist_top_track4 = df_artist_top_track3.copy() # DataFrame 데이터 복사\n",
    "    # convert_msec() 함수를 duration_ms 열의 각 항목에 적용\n",
    "    df_artist_top_track4['duration_ms'] = df_artist_top_track4['duration_ms'].apply(convert_msec)\n",
    "    \n",
    "    # duration_ms 열 이름을 duration로 변경\n",
    "    df_artist_top_track4.rename(columns={'duration_ms':'duration'}, inplace=True)\n",
    "\n",
    "    # 열 제목을 변경\n",
    "    df_artist_top_track4.columns = [\"아티스트\", \"곡 제목\", \"곡의 길이\", \"곡 ID\", \"인기도\"]\n",
    "    \n",
    "    return df_artist_top_track4"
   ]
  },
  {
   "cell_type": "markdown",
   "metadata": {},
   "source": [
    "[8장: 385페이지]"
   ]
  },
  {
   "cell_type": "code",
   "execution_count": null,
   "metadata": {},
   "outputs": [],
   "source": [
    "artist_id = \"3Nrfpe0tUJi4K4DXYWgMUX\" # 방탄소년단(BTS)의 아티스트 ID  \n",
    "country_code = \"US\" # 미국의 국가 코드\n",
    "\n",
    "df_BTS_top_track = get_artist_top_track(artist_id, country_code)\n",
    "df_BTS_top_track.head()"
   ]
  },
  {
   "cell_type": "markdown",
   "metadata": {},
   "source": [
    "#### 아티스트의 앨범 정보 가져오기"
   ]
  },
  {
   "cell_type": "markdown",
   "metadata": {},
   "source": [
    "[8장: 387페이지]"
   ]
  },
  {
   "cell_type": "code",
   "execution_count": null,
   "metadata": {},
   "outputs": [],
   "source": [
    "def get_spotify_artist_albums_tracks(artist_id, include_groups=None):\n",
    "\n",
    "    url = \"https://api.spotify.com/v1/artists/{id}/albums\".format(id=artist_id)\n",
    "    ACCESS_TOKEN = get_spotify_access_token(CLIENT_ID, CLIENT_SECRET)\n",
    "\n",
    "    parameters = {\"include_groups\": include_groups}\n",
    "    headers = {\"Authorization\": \"Bearer \" + ACCESS_TOKEN}\n",
    "      \n",
    "    if(include_groups==None): # 앨범 타입을 지정하지 않을 경우 params 인수 없이 호출\n",
    "        r = requests.get(url, headers=headers)\n",
    "    else:                     # 앨범 타입을 지정할 경우 params 인수 호출\n",
    "        r = requests.get(url, params=parameters, headers=headers)\n",
    "\n",
    "    return r.json()"
   ]
  },
  {
   "cell_type": "markdown",
   "metadata": {},
   "source": [
    "[8장: 388페이지]"
   ]
  },
  {
   "cell_type": "code",
   "execution_count": null,
   "metadata": {},
   "outputs": [],
   "source": [
    "import pandas as pd\n",
    "\n",
    "artist_id = \"3HqSLMAZ3g3d5poNaI7GOU\" # 아이유의 아티스트 ID\n",
    "\n",
    "# album, single, appears_on, compilation\n",
    "include_groups = \"album,single\"\n",
    "\n",
    "artist_albums_data = get_spotify_artist_albums_tracks(artist_id, include_groups)\n",
    "# artist_albums_data = get_sptoify_artist_albums_tracks(artist_id)\n",
    "artist_albums = artist_albums_data['items']\n",
    "\n",
    "albums_info = []\n",
    "for album in artist_albums:\n",
    "    albums_name_release_date = {\"name\":album['name'],\n",
    "                                \"album_type\":album['album_type'],\n",
    "                                \"release_date\":album['release_date'],\n",
    "                                \"album_id\":album['id'],}\n",
    "    albums_info.append(albums_name_release_date)\n",
    "\n",
    "df_albums = pd.DataFrame(albums_info)\n",
    "df_albums[0:10]"
   ]
  },
  {
   "cell_type": "markdown",
   "metadata": {},
   "source": [
    "[8장: 389페이지]"
   ]
  },
  {
   "cell_type": "code",
   "execution_count": null,
   "metadata": {
    "scrolled": false
   },
   "outputs": [],
   "source": [
    "df_albums[df_albums['album_type']=='album']"
   ]
  },
  {
   "cell_type": "code",
   "execution_count": null,
   "metadata": {},
   "outputs": [],
   "source": [
    "import pandas as pd\n",
    "\n",
    "def get_artist_albums(artist_id, include_groups=None):\n",
    "    \n",
    "    artist_albums_data = get_spotify_artist_albums_tracks(artist_id, include_groups)\n",
    "    artist_albums = artist_albums_data['items']\n",
    "\n",
    "    albums_info = []\n",
    "    for album in artist_albums:\n",
    "        albums_name_release_date = {\"name\":album['name'],\n",
    "                                    \"album_type\":album['album_type'],\n",
    "                                    \"release_date\":album['release_date'],\n",
    "                                    \"album_id\":album['id'],}\n",
    "        albums_info.append(albums_name_release_date)\n",
    "\n",
    "    df_albums = pd.DataFrame(albums_info)\n",
    "    return df_albums"
   ]
  },
  {
   "cell_type": "markdown",
   "metadata": {},
   "source": [
    "[8장: 390페이지]"
   ]
  },
  {
   "cell_type": "code",
   "execution_count": null,
   "metadata": {
    "scrolled": false
   },
   "outputs": [],
   "source": [
    "artist_id = \"6OwKE9Ez6ALxpTaKcT5ayv\" # 악동뮤지션(악뮤)의 아티스트 ID\n",
    "\n",
    "df_AKMU_albums = get_artist_albums(artist_id)\n",
    "df_AKMU_albums.head()"
   ]
  },
  {
   "cell_type": "markdown",
   "metadata": {},
   "source": [
    "### 8.4.3 트랙 API로 곡 관련 정보 가져오기"
   ]
  },
  {
   "cell_type": "markdown",
   "metadata": {},
   "source": [
    "#### 트랙(곡) 정보 가져오기"
   ]
  },
  {
   "cell_type": "markdown",
   "metadata": {},
   "source": [
    "[8장: 393페이지]"
   ]
  },
  {
   "cell_type": "code",
   "execution_count": null,
   "metadata": {},
   "outputs": [],
   "source": [
    "import requests\n",
    "\n",
    "def get_spotify_track_info(track_id):\n",
    "    url = \"https://api.spotify.com/v1/tracks/{id}\".format(id=track_id)\n",
    "    ACCESS_TOKEN = get_spotify_access_token(CLIENT_ID, CLIENT_SECRET)\n",
    "\n",
    "    headers = {\"Authorization\": \"Bearer \" + ACCESS_TOKEN} # 헤더 생성\n",
    "    r = requests.get(url, headers=headers) # GET 방법으로 요청해 응답받음\n",
    "\n",
    "    return r.json()"
   ]
  },
  {
   "cell_type": "code",
   "execution_count": null,
   "metadata": {
    "scrolled": true
   },
   "outputs": [],
   "source": [
    "track_id = \"2bgTY4UwhfBYhGT4HUYStN\" # 트랙 ID(방탄소년단 Butter)\n",
    "track_data = get_spotify_track_info(track_id)\n",
    "\n",
    "print(\"[트랙(곡) 정보]\")\n",
    "print(\"- 아티스트:\", get_artists(track_data['artists'])) # get_artists() 함수 이용\n",
    "print(\"- 트랙(곡) 제목:\", track_data['name'])\n",
    "print(\"- 발표일:\", track_data['album']['release_date'])\n",
    "print(\"- 트랙(곡) 길이:\", convert_msec(track_data['duration_ms'])) # convert_msec() 함수 이용\n",
    "print(\"- 트랙 ID:\", track_data['id'])\n",
    "print(\"- 인기도:\", track_data['popularity'])"
   ]
  },
  {
   "cell_type": "markdown",
   "metadata": {},
   "source": [
    "#### 트랙(곡)의 오디오 특징 정보 가져오기"
   ]
  },
  {
   "cell_type": "markdown",
   "metadata": {},
   "source": [
    "[8장: 396페이지]"
   ]
  },
  {
   "cell_type": "code",
   "execution_count": null,
   "metadata": {},
   "outputs": [],
   "source": [
    "import requests\n",
    "\n",
    "def get_spotify_audio_features(track_id):\n",
    "    url = \"https://api.spotify.com/v1/audio-features/{id}\".format(id=track_id)\n",
    "    ACCESS_TOKEN = get_spotify_access_token(CLIENT_ID, CLIENT_SECRET)\n",
    "\n",
    "    headers = {\"Authorization\": \"Bearer \" + ACCESS_TOKEN} # 헤더 생성\n",
    "    r = requests.get(url, headers=headers) # GET 방법으로 요청해 응답받음\n",
    "\n",
    "    return r.json()"
   ]
  },
  {
   "cell_type": "code",
   "execution_count": null,
   "metadata": {
    "scrolled": true
   },
   "outputs": [],
   "source": [
    "track_id = \"2bgTY4UwhfBYhGT4HUYStN\" # 트랙 ID(방탄소년단 Butter)\n",
    "audio_features_data = get_spotify_audio_features(track_id)\n",
    "audio_features_data"
   ]
  },
  {
   "cell_type": "markdown",
   "metadata": {},
   "source": [
    "[8장: 397페이지]"
   ]
  },
  {
   "cell_type": "code",
   "execution_count": null,
   "metadata": {},
   "outputs": [],
   "source": [
    "import pandas as pd \n",
    "\n",
    "track_IDs = [\"2bgTY4UwhfBYhGT4HUYStN\", # 방탄소년단 Butter\n",
    "             \"3P3UA61WRQqwCXaoFOTENd\", # 아이유 밤편지\n",
    "             \"5FKdWT5A7vDTEnPiHrruFY\", # 김동률 출발\n",
    "             \"4ribiWWnI451QMRdOgByIP\", # 이무진 비와 당신\n",
    "             \"1s6GWG2BrEWLE8sbd1lXME\", # 악뮤 오랜 날 오랜 밤\n",
    "             \"4t2FIqZJORKZGSKg30SShr\", # 악뮤(with IU) 낙하\n",
    "             \"1iIhGHzzrzqQfuNkFI2qAn\", # 지코 아무 노래\n",
    "             \"4XaG9IpCXklOcuau1sIrUX\", # 퀸(Queen) We Are The Champions\n",
    "             \"7vd1j4IDTU0koES9M8dvBQ\", # 이루마 Kiss The Rain\n",
    "             \"3L1Ssz5HaOV3ZG9eJnV8UY\"] # 피아노 캐논 변주곡\n",
    " \n",
    "tracks_audio_features = [] # 여러 곡의 오디오 특징 리스트\n",
    "\n",
    "for track_ID in track_IDs:\n",
    "    # 아티스트와 트랙 이름 가져오기\n",
    "    track_info = get_spotify_track_info(track_ID)\n",
    "    \n",
    "    # 트랙의 오디오 특징을 가져오기\n",
    "    audio_features = get_spotify_audio_features(track_ID)\n",
    "    \n",
    "    # 아티스트와 트랙 정보와 오디오 특징 통합\n",
    "    track_audio_features = {\"artists\":get_artists(track_info['artists']), \n",
    "                            \"title\":track_info['name'], \n",
    "                            \"danceability\":audio_features['danceability'],\n",
    "                            \"energy\":audio_features['energy'],\n",
    "                            \"valence\":audio_features['valence'],\n",
    "                            \"acousticness\":audio_features['acousticness'],\n",
    "                            \"speechiness\":audio_features['speechiness'],\n",
    "                            \"instrumentalness\":audio_features['instrumentalness'],\n",
    "                            \"liveness\":audio_features['liveness']}\n",
    "    \n",
    "    # 트랙의 오디오 특징 정보를 리스트에 담기\n",
    "    tracks_audio_features.append(track_audio_features)\n",
    "    \n",
    "# DataFrame 데이터로 변환\n",
    "df_tracks_audio_features = pd.DataFrame(tracks_audio_features)\n",
    "df_tracks_audio_features"
   ]
  },
  {
   "cell_type": "markdown",
   "metadata": {},
   "source": [
    "[8장: 399페이지]"
   ]
  },
  {
   "cell_type": "code",
   "execution_count": null,
   "metadata": {},
   "outputs": [],
   "source": [
    "import matplotlib as mpl\n",
    "\n",
    "mpl.rcParams['font.family'] = 'Malgun Gothic' # '맑은 고딕'으로 폰트 설정 \n",
    "mpl.rcParams['axes.unicode_minus'] = False   # 마이너스(-) 폰트 깨짐 방지"
   ]
  },
  {
   "cell_type": "markdown",
   "metadata": {},
   "source": [
    "[8장: 400페이지]"
   ]
  },
  {
   "cell_type": "code",
   "execution_count": null,
   "metadata": {},
   "outputs": [],
   "source": [
    "%matplotlib inline"
   ]
  },
  {
   "cell_type": "markdown",
   "metadata": {},
   "source": [
    "이제 오디오 특징 중 몇 가지를 선택해 막대 그래프로 비교해 보겠습니다."
   ]
  },
  {
   "cell_type": "code",
   "execution_count": null,
   "metadata": {},
   "outputs": [],
   "source": [
    "import matplotlib.pyplot as plt\n",
    "\n",
    "selected_columns = [\"danceability\", \"energy\", \"valence\", \"acousticness\",\n",
    "                    \"speechiness\", \"instrumentalness\", \"liveness\"]\n",
    "df_tracks_audio_features2 = df_tracks_audio_features[selected_columns]\n",
    "\n",
    "ax = df_tracks_audio_features2.T.plot.bar(figsize=(15,4))\n",
    "ax.legend(df_tracks_audio_features[\"title\"],  bbox_to_anchor=(0.55, 0.2))\n",
    "\n",
    "# x축 라벨, y축 라벨, title 지정 \n",
    "ax.set_xlabel('오디오 특징', fontsize = 15)\n",
    "ax.set_ylabel('값', fontsize = 15)\n",
    "ax.set_title('트랙별 오디오 특징 비교', fontsize = 18)\n",
    "\n",
    "plt.show()"
   ]
  },
  {
   "cell_type": "markdown",
   "metadata": {},
   "source": [
    "### 8.4.4  앨범 API로 앨범 관련 정보 가져오기"
   ]
  },
  {
   "cell_type": "markdown",
   "metadata": {},
   "source": [
    "#### 앨범 정보 가져오기 "
   ]
  },
  {
   "cell_type": "markdown",
   "metadata": {},
   "source": [
    "[8장: 404페이지]"
   ]
  },
  {
   "cell_type": "code",
   "execution_count": null,
   "metadata": {},
   "outputs": [],
   "source": [
    "def get_spotify_album_info(album_id):\n",
    "    url = \"https://api.spotify.com/v1/albums/{id}\".format(id=album_id)\n",
    "    ACCESS_TOKEN = get_spotify_access_token(CLIENT_ID, CLIENT_SECRET)\n",
    "\n",
    "    headers = {\"Authorization\": \"Bearer \" + ACCESS_TOKEN} # 헤더 생성\n",
    "\n",
    "    r = requests.get(url, headers=headers) # GET 방법으로 응답을 요청\n",
    "\n",
    "    return r.json()"
   ]
  },
  {
   "cell_type": "code",
   "execution_count": null,
   "metadata": {},
   "outputs": [],
   "source": [
    "album_id = \"01dPJcwyht77brL4JQiR8R\" # 앨범 ID(아이유 IU 5th Album 'LILAC' 앨범)\n",
    "\n",
    "album_data = get_spotify_album_info(album_id)\n",
    "album_data.keys()"
   ]
  },
  {
   "cell_type": "markdown",
   "metadata": {},
   "source": [
    "[8장: 405페이지]"
   ]
  },
  {
   "cell_type": "code",
   "execution_count": null,
   "metadata": {
    "scrolled": true
   },
   "outputs": [],
   "source": [
    "print(\"[앨범 정보]\")\n",
    "print(\"- 아티스트:\", get_artists(album_data['artists'])) # get_artists() 함수 이용\n",
    "print(\"- 앨범 제목:\", album_data['name'])\n",
    "print(\"- 앨범 발표일:\", album_data['release_date'])\n",
    "print(\"- 앨범의 곡 개수:\", album_data['total_tracks']) \n",
    "print(\"- 앨범 ID:\", album_data['id'])\n",
    "print(\"- 앨범 인기도:\", album_data['popularity'])\n",
    "print(\"- 앨범 Label:\", album_data['label'])"
   ]
  },
  {
   "cell_type": "markdown",
   "metadata": {},
   "source": [
    "#### 앨범의 트랙(곡) 정보 가져오기 "
   ]
  },
  {
   "cell_type": "markdown",
   "metadata": {},
   "source": [
    "[8장: 407페이지]"
   ]
  },
  {
   "cell_type": "code",
   "execution_count": null,
   "metadata": {},
   "outputs": [],
   "source": [
    "def get_spotify_album_tracks(album_id):\n",
    "    url = \"https://api.spotify.com/v1/albums/{id}/tracks\".format(id=album_id)\n",
    "    ACCESS_TOKEN = get_spotify_access_token(CLIENT_ID, CLIENT_SECRET)\n",
    "\n",
    "    headers = {\"Authorization\": \"Bearer \" + ACCESS_TOKEN} # 헤더 생성\n",
    "\n",
    "    r = requests.get(url, headers=headers) # GET 방법으로 요청해 응답받음\n",
    "\n",
    "    return r.json()"
   ]
  },
  {
   "cell_type": "code",
   "execution_count": null,
   "metadata": {},
   "outputs": [],
   "source": [
    "album_id = \"01dPJcwyht77brL4JQiR8R\" # 앨범 ID(아이유 IU 5th Album 'LILAC' 앨범)\n",
    "\n",
    "album_tracks_data = get_spotify_album_tracks(album_id)\n",
    "\n",
    "print(\"[앨범 트랙 정보]\")\n",
    "print(\"- 앨범 트랙 API URL:\", album_tracks_data['href'])\n",
    "print(\"- 설정한 트랙 수 :\", album_tracks_data['limit']) \n",
    "print(\"- 설정한 트랙 오프셋:\", album_tracks_data['offset']) \n",
    "print(\"- 앨범의 곡 개수:\", album_tracks_data['total']) \n",
    "print(\"- 다음 트랙 API URL:\", album_tracks_data['next']) "
   ]
  },
  {
   "cell_type": "markdown",
   "metadata": {},
   "source": [
    "[8장: 408페이지]"
   ]
  },
  {
   "cell_type": "code",
   "execution_count": null,
   "metadata": {},
   "outputs": [],
   "source": [
    "import pandas as pd\n",
    "\n",
    "def get_album_track(album_id):    \n",
    "    album_tracks_data = get_spotify_album_tracks(album_id)\n",
    "    album_tracks = album_tracks_data['items']\n",
    "\n",
    "    df_album_tracks = pd.DataFrame(album_tracks) # DataFrame 데이터로 변환\n",
    "    \n",
    "    df_album_tracks2 = df_album_tracks[['artists', 'name', 'duration_ms', 'id']] # DataFrame 데이터에서 열 선택\n",
    "    \n",
    "    df_album_tracks3 = df_album_tracks2.copy() # DataFrame 데이터 복사\n",
    "    df_album_tracks3['artists'] = df_album_tracks3['artists'].apply(get_artists) # 함수를 artists 열의 각 항목에 적용\n",
    "\n",
    "    df_album_tracks4 = df_album_tracks3.copy() # DataFrame 데이터 복사\n",
    "    df_album_tracks4['duration_ms'] = df_album_tracks4['duration_ms'].apply(convert_msec) # 함수를 artists 열의 각 항목에 적용\n",
    "    df_album_tracks4.rename(columns = {'duration_ms' : 'duration'}, inplace = True) # duration_ms 열 이름을 duration로 변경\n",
    "\n",
    "    df_album_tracks4.columns = [\"아티스트\", \"곡 제목\", \"곡의 길이\", \"곡 ID\"] # 열 제목을 변경\n",
    "    \n",
    "    return df_album_tracks4"
   ]
  },
  {
   "cell_type": "code",
   "execution_count": null,
   "metadata": {},
   "outputs": [],
   "source": [
    "album_id = \"01dPJcwyht77brL4JQiR8R\" # 앨범 ID(아이유 IU 5th Album 'LILAC' 앨범)\n",
    "\n",
    "df_IU_album_tracks = get_album_track(album_id)\n",
    "df_IU_album_tracks.head()"
   ]
  },
  {
   "cell_type": "markdown",
   "metadata": {},
   "source": [
    "## 8.5 야후 파이낸스에서 주식 데이터 가져오기"
   ]
  },
  {
   "cell_type": "markdown",
   "metadata": {},
   "source": [
    "### 8.5.1 설치 및 기본 사용법"
   ]
  },
  {
   "cell_type": "markdown",
   "metadata": {},
   "source": [
    "### 8.5.2 미국 주식 데이터 가져오기"
   ]
  },
  {
   "cell_type": "markdown",
   "metadata": {},
   "source": [
    "[8장: 411페이지]"
   ]
  },
  {
   "cell_type": "code",
   "execution_count": null,
   "metadata": {},
   "outputs": [],
   "source": [
    "import yfinance as yf\n",
    "\n",
    "ticker_symbol = \"TSLA\" # 테슬라 주식 심볼\n",
    "ticker_data = yf.Ticker(ticker_symbol)\n",
    "\n",
    "# 해당 종목의 정보 가져오기\n",
    "# ticker_data.info\n",
    "\n",
    "df = ticker_data.history(period='5d')\n",
    "df"
   ]
  },
  {
   "cell_type": "markdown",
   "metadata": {},
   "source": [
    "[8장: 412페이지]"
   ]
  },
  {
   "cell_type": "code",
   "execution_count": null,
   "metadata": {
    "scrolled": true
   },
   "outputs": [],
   "source": [
    "df = ticker_data.history(period='1mo', interval='1d',start='2022-04-18', end='2022-04-22')\n",
    "df"
   ]
  },
  {
   "cell_type": "markdown",
   "metadata": {},
   "source": [
    "[8장: 413페이지]"
   ]
  },
  {
   "cell_type": "code",
   "execution_count": null,
   "metadata": {},
   "outputs": [],
   "source": [
    "df = ticker_data.history(start='2022-04-18', end='2022-04-23') # start와 end 모두 지정\n",
    "# df = ticker_data.history(start='2022-04-18') # start만 지정\n",
    "df"
   ]
  },
  {
   "cell_type": "code",
   "execution_count": null,
   "metadata": {},
   "outputs": [],
   "source": [
    "import datetime\n",
    "\n",
    "start_p = datetime.datetime(2021,5,24) # 시작일 지정\n",
    "end_p = datetime.datetime(2021,5,29)   # 종료일 지정\n",
    "\n",
    "df = ticker_data.history(start=start_p, end=end_p) # start와 end 모두 지정\n",
    "df"
   ]
  },
  {
   "cell_type": "markdown",
   "metadata": {},
   "source": [
    "### 8.5.3 국내 주식 데이터 가져오기"
   ]
  },
  {
   "cell_type": "markdown",
   "metadata": {},
   "source": [
    "[8장: 414페이지]"
   ]
  },
  {
   "cell_type": "code",
   "execution_count": null,
   "metadata": {},
   "outputs": [],
   "source": [
    "import pandas as pd\n",
    "\n",
    "#----------------------------------------------------\n",
    "# 한국 주식의 종목 이름과 종목 코드를 가져오는 함수\n",
    "#----------------------------------------------------\n",
    "def get_stock_info(maket_type=None):\n",
    "    # 한국거래소(KRX)에서 전체 상장법인 목록 가져오기\n",
    "    base_url =  \"http://kind.krx.co.kr/corpgeneral/corpList.do\"\n",
    "    method = \"download\"\n",
    "    if maket_type == 'kospi':\n",
    "        marketType = \"stockMkt\"  # 주식 종목이 코스피인 경우\n",
    "    elif maket_type == 'kosdaq':\n",
    "        marketType = \"kosdaqMkt\" # 주식 종목이 코스닥인 경우\n",
    "    elif maket_type == None:\n",
    "        marketType = \"\"\n",
    "    url = \"{0}?method={1}&marketType={2}\".format(base_url, method, marketType)\n",
    "\n",
    "    df = pd.read_html(url, header=0)[0]\n",
    "    \n",
    "    # 종목코드 열을 6자리 숫자로 표시된 문자열로 변환\n",
    "    df['종목코드']= df['종목코드'].apply(lambda x: f\"{x:06d}\") \n",
    "    \n",
    "    # 회사명과 종목코드 열 데이터만 남김\n",
    "    df = df[['회사명','종목코드']]\n",
    "    \n",
    "    return df"
   ]
  },
  {
   "cell_type": "markdown",
   "metadata": {},
   "source": [
    "[8장: 415페이지]"
   ]
  },
  {
   "cell_type": "code",
   "execution_count": null,
   "metadata": {},
   "outputs": [],
   "source": [
    "def get_ticker_symbol(company_name, maket_type):\n",
    "    \"\"\"\n",
    "    ----------------------------------------------------\n",
    "      yfinance에 이용할 Ticker 심볼을 반환하는 함수\n",
    "    ----------------------------------------------------\n",
    "    \"\"\"\n",
    "    df = get_stock_info(maket_type)\n",
    "    code = df[df['회사명']==company_name]['종목코드'].values\n",
    "    code = code[0]\n",
    "    \n",
    "    if maket_type == 'kospi':\n",
    "        ticker_symbol = code +\".KS\" # 코스피 주식의 심볼\n",
    "    elif maket_type == 'kosdaq':\n",
    "        ticker_symbol = code +\".KQ\" # 코스닥 주식의 심볼\n",
    "    \n",
    "    return ticker_symbol"
   ]
  },
  {
   "cell_type": "code",
   "execution_count": null,
   "metadata": {},
   "outputs": [],
   "source": [
    "import yfinance as yf\n",
    "\n",
    "ticker_symbol = get_ticker_symbol(\"삼성전자\", \"kospi\") # 삼성전자, 주식 종류는 코스피로 지정\n",
    "ticker_data = yf.Ticker(ticker_symbol)\n",
    "\n",
    "df = ticker_data.history(start='2022-06-13', end='2022-06-18') # 시작일과 종료일 지정\n",
    "# df = ticker_data.history(period='5d') # 기간을 지정\n",
    "\n",
    "df"
   ]
  },
  {
   "cell_type": "markdown",
   "metadata": {},
   "source": [
    "[8장: 416페이지]"
   ]
  },
  {
   "cell_type": "code",
   "execution_count": null,
   "metadata": {},
   "outputs": [],
   "source": [
    "excel_file_name = \"C:/myPyScraping/data/ch08/삼성전자_주가_데이터.xlsx\" # 엑셀 파일 이름 지정\n",
    "df.to_excel(excel_file_name)\n",
    "\n",
    "print(\"생성 파일:\", excel_file_name)"
   ]
  },
  {
   "cell_type": "markdown",
   "metadata": {},
   "source": [
    "### 8.5.4 여러 주식 데이터 가져오기"
   ]
  },
  {
   "cell_type": "markdown",
   "metadata": {},
   "source": [
    "[8장: 417페이지]"
   ]
  },
  {
   "cell_type": "code",
   "execution_count": null,
   "metadata": {},
   "outputs": [],
   "source": [
    "ticker_symbols = \"MSFT\" # 마이크로소프트 주식 심볼\n",
    "# ticker_symbols = [\"MSFT\"] # 리스트도 지정해도 됨\n",
    "df = yf.download(ticker_symbols, start=\"2020-01-01\", end=\"2022-01-01\")\n",
    "df.tail()"
   ]
  },
  {
   "cell_type": "code",
   "execution_count": null,
   "metadata": {
    "scrolled": true
   },
   "outputs": [],
   "source": [
    "# 그래프 그리기\n",
    "import matplotlib.pyplot as plt\n",
    "\n",
    "df['Close'].plot(grid=True, figsize=(15, 5), title=\"Microsoft\")\n",
    "plt.show()"
   ]
  },
  {
   "cell_type": "markdown",
   "metadata": {},
   "source": [
    "[8장: 418페이지]"
   ]
  },
  {
   "cell_type": "code",
   "execution_count": null,
   "metadata": {},
   "outputs": [],
   "source": [
    "ticker_symbols = [\"GOOG\", \"AAPL\"] # 주식 심볼 리스트(구글, 애플)\n",
    "df = yf.download(ticker_symbols,  start=\"2020-01-01\", end=\"2022-01-01\")\n",
    "df.tail()"
   ]
  },
  {
   "cell_type": "code",
   "execution_count": null,
   "metadata": {
    "scrolled": true
   },
   "outputs": [],
   "source": [
    "# 그래프 그리기\n",
    "import matplotlib.pyplot as plt\n",
    "\n",
    "df['Close'].plot(grid=True, figsize=(15, 5))\n",
    "plt.show()"
   ]
  },
  {
   "cell_type": "markdown",
   "metadata": {},
   "source": [
    "[8장: 419페이지]"
   ]
  },
  {
   "cell_type": "code",
   "execution_count": null,
   "metadata": {},
   "outputs": [],
   "source": [
    "# 그래프 그리기\n",
    "df['Close'].plot(grid=True, figsize=(15, 5), subplots=True, layout=(2,1))\n",
    "plt.show()"
   ]
  },
  {
   "cell_type": "markdown",
   "metadata": {},
   "source": [
    "## 8.6 정리"
   ]
  }
 ],
 "metadata": {
  "anaconda-cloud": {},
  "kernelspec": {
   "display_name": "Python 3 (ipykernel)",
   "language": "python",
   "name": "python3"
  },
  "language_info": {
   "codemirror_mode": {
    "name": "ipython",
    "version": 3
   },
   "file_extension": ".py",
   "mimetype": "text/x-python",
   "name": "python",
   "nbconvert_exporter": "python",
   "pygments_lexer": "ipython3",
   "version": "3.11.4"
  },
  "latex_envs": {
   "LaTeX_envs_menu_present": true,
   "autoclose": false,
   "autocomplete": true,
   "bibliofile": "biblio.bib",
   "cite_by": "apalike",
   "current_citInitial": 1,
   "eqLabelWithNumbers": true,
   "eqNumInitial": 1,
   "hotkeys": {
    "equation": "Ctrl-E",
    "itemize": "Ctrl-I"
   },
   "labels_anchors": false,
   "latex_user_defs": false,
   "report_style_numbering": false,
   "user_envs_cfg": false
  },
  "nav_menu": {},
  "toc": {
   "base_numbering": "8",
   "nav_menu": {
    "height": "512px",
    "width": "252px"
   },
   "number_sections": false,
   "sideBar": true,
   "skip_h1_title": false,
   "title_cell": "Table of Contents",
   "title_sidebar": "Contents",
   "toc_cell": false,
   "toc_position": {
    "height": "545px",
    "left": "0px",
    "right": "1078px",
    "top": "111px",
    "width": "342px"
   },
   "toc_section_display": "block",
   "toc_window_display": false
  },
  "toc_position": {
   "height": "556px",
   "left": "0px",
   "right": "1057px",
   "top": "107px",
   "width": "309px"
  }
 },
 "nbformat": 4,
 "nbformat_minor": 1
}
