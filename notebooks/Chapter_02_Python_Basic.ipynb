{
 "cells": [
  {
   "cell_type": "markdown",
   "metadata": {},
   "source": [
    "# 2장 파이썬 기본 문법"
   ]
  },
  {
   "cell_type": "markdown",
   "metadata": {},
   "source": [
    "## 2.1 변수와 자료형"
   ]
  },
  {
   "cell_type": "markdown",
   "metadata": {},
   "source": [
    "### 2.1.1 변수"
   ]
  },
  {
   "cell_type": "markdown",
   "metadata": {},
   "source": [
    "[2장: 33페이지]"
   ]
  },
  {
   "cell_type": "code",
   "execution_count": null,
   "metadata": {},
   "outputs": [],
   "source": [
    "abc = 12340       # 숫자 12340을 abc 변수에 할당\n",
    "print(abc + 100)  # abc 변수에 100을 더해서 결과를 출력"
   ]
  },
  {
   "cell_type": "code",
   "execution_count": null,
   "metadata": {},
   "outputs": [],
   "source": [
    "string1 = \"Python is \"\n",
    "string2 = \"powerful.\"\n",
    "print(string1 + string2)"
   ]
  },
  {
   "cell_type": "markdown",
   "metadata": {},
   "source": [
    "### 2.1.2 숫자(int, float)"
   ]
  },
  {
   "cell_type": "markdown",
   "metadata": {},
   "source": [
    "[2장: 35페이지]"
   ]
  },
  {
   "cell_type": "code",
   "execution_count": null,
   "metadata": {},
   "outputs": [],
   "source": [
    "type(123)"
   ]
  },
  {
   "cell_type": "code",
   "execution_count": null,
   "metadata": {},
   "outputs": [],
   "source": [
    "type(123.45)"
   ]
  },
  {
   "cell_type": "code",
   "execution_count": null,
   "metadata": {},
   "outputs": [],
   "source": [
    "5 + 2"
   ]
  },
  {
   "cell_type": "markdown",
   "metadata": {},
   "source": [
    "[2장: 36페이지]"
   ]
  },
  {
   "cell_type": "code",
   "execution_count": null,
   "metadata": {
    "scrolled": true
   },
   "outputs": [],
   "source": [
    "print(5 + 2)  # 더하기\n",
    "print(5 - 2)  # 빼기\n",
    "print(5 * 2)  # 곱하기\n",
    "print(5 / 2)  # 나누기\n",
    "print(5 // 2) # 몫 구하기\n",
    "print(5 % 2)  # 나머지 구하기\n",
    "print(5 ** 2) # 거듭제곱"
   ]
  },
  {
   "cell_type": "markdown",
   "metadata": {},
   "source": [
    "[2장: 37페이지]"
   ]
  },
  {
   "cell_type": "code",
   "execution_count": null,
   "metadata": {},
   "outputs": [],
   "source": [
    "6 / 3"
   ]
  },
  {
   "cell_type": "code",
   "execution_count": null,
   "metadata": {},
   "outputs": [],
   "source": [
    "(10/5 + (5-2)) * (1.2+2) / 2**2"
   ]
  },
  {
   "cell_type": "markdown",
   "metadata": {},
   "source": [
    "### 2.1.3 문자열(str)"
   ]
  },
  {
   "cell_type": "markdown",
   "metadata": {},
   "source": [
    "[2장: 37페이지]"
   ]
  },
  {
   "cell_type": "code",
   "execution_count": null,
   "metadata": {},
   "outputs": [],
   "source": [
    "\"String\""
   ]
  },
  {
   "cell_type": "code",
   "execution_count": null,
   "metadata": {},
   "outputs": [],
   "source": [
    "'Test'"
   ]
  },
  {
   "cell_type": "markdown",
   "metadata": {},
   "source": [
    "[2장: 38페이지]"
   ]
  },
  {
   "cell_type": "code",
   "execution_count": null,
   "metadata": {},
   "outputs": [],
   "source": [
    "print(\"String\")\n",
    "print('Test')"
   ]
  },
  {
   "cell_type": "code",
   "execution_count": null,
   "metadata": {},
   "outputs": [],
   "source": [
    "print(\"It's OK.\")"
   ]
  },
  {
   "cell_type": "code",
   "execution_count": null,
   "metadata": {},
   "outputs": [],
   "source": [
    "print('그는 \"파이썬이 무엇입니까?\"라고 물었습니다.')"
   ]
  },
  {
   "cell_type": "code",
   "execution_count": null,
   "metadata": {},
   "outputs": [],
   "source": [
    "type('Hello Python!')"
   ]
  },
  {
   "cell_type": "code",
   "execution_count": null,
   "metadata": {},
   "outputs": [],
   "source": [
    "\"Hello\" + \" \" + \"Python \" + \"!\""
   ]
  },
  {
   "cell_type": "code",
   "execution_count": null,
   "metadata": {},
   "outputs": [],
   "source": [
    "\"Python\" * 3"
   ]
  },
  {
   "cell_type": "markdown",
   "metadata": {},
   "source": [
    "[2장: 39페이지]"
   ]
  },
  {
   "cell_type": "code",
   "execution_count": null,
   "metadata": {},
   "outputs": [],
   "source": [
    "len(\"Python\")"
   ]
  },
  {
   "cell_type": "code",
   "execution_count": null,
   "metadata": {},
   "outputs": [],
   "source": [
    "len(\"Python \")"
   ]
  },
  {
   "cell_type": "code",
   "execution_count": null,
   "metadata": {},
   "outputs": [],
   "source": [
    "long_str = '''學而不思則罔 思而不學則殆\n",
    "학이불사즉망 사이불학즉태\n",
    "\"배우기만 하고 생각하지 않으면 얻는 것이 없고, 생각만 하고 배우지 않으면 위태롭다.\"\n",
    "(출처: 『논어』위정편 15장)'''\n",
    "\n",
    "print(long_str)"
   ]
  },
  {
   "cell_type": "markdown",
   "metadata": {},
   "source": [
    "### 2.1.4 불(bool)"
   ]
  },
  {
   "cell_type": "markdown",
   "metadata": {},
   "source": [
    "[2장: 40페이지]"
   ]
  },
  {
   "cell_type": "code",
   "execution_count": null,
   "metadata": {},
   "outputs": [],
   "source": [
    "print(True)"
   ]
  },
  {
   "cell_type": "code",
   "execution_count": null,
   "metadata": {},
   "outputs": [],
   "source": [
    "print(False)"
   ]
  },
  {
   "cell_type": "code",
   "execution_count": null,
   "metadata": {},
   "outputs": [],
   "source": [
    "type(True)"
   ]
  },
  {
   "cell_type": "code",
   "execution_count": null,
   "metadata": {},
   "outputs": [],
   "source": [
    "type(False)"
   ]
  },
  {
   "cell_type": "markdown",
   "metadata": {},
   "source": [
    "[2장: 41페이지]"
   ]
  },
  {
   "cell_type": "code",
   "execution_count": null,
   "metadata": {},
   "outputs": [],
   "source": [
    "print(True and False)\n",
    "print(True or False)\n",
    "print(not False)"
   ]
  },
  {
   "cell_type": "code",
   "execution_count": null,
   "metadata": {},
   "outputs": [],
   "source": [
    "# 숫자 자료형에 대한 비교 연산자 활용 예\n",
    "print(10 == 5)  # 10과 5는 같다 --> 거짓(False)\n",
    "print(10 != 5)  # 10과 5는 같지 않다 --> 참(True)\n",
    "print(10 < 5)   # 10은 5보다 작다 --> 거짓(False)\n",
    "print(10 > 5)   # 10은 5보다 크다 --> 참(True)\n",
    "print(10 <= 5)  # 10은 5보다 작거나 같다 --> 거짓(False)\n",
    "print(10 >= 5)  # 10은 5보다 크거나 같다 --> 참(True)\n",
    "\n",
    "# 불 자료형에 대한 비교 연산자 활용 예\n",
    "print(True == False) # True와 False는 같다 --> 거짓(False)\n",
    "print(True != False) # True와 False는 같지 않다 --> 참(True)"
   ]
  },
  {
   "cell_type": "markdown",
   "metadata": {},
   "source": [
    "[2장: 42페이지]"
   ]
  },
  {
   "cell_type": "code",
   "execution_count": null,
   "metadata": {},
   "outputs": [],
   "source": [
    "1 > 0 and (5 > 10 or 3 < 5)"
   ]
  },
  {
   "cell_type": "markdown",
   "metadata": {},
   "source": [
    "###  2.1.5 리스트(list)"
   ]
  },
  {
   "cell_type": "markdown",
   "metadata": {},
   "source": [
    "#### 리스트 만들기"
   ]
  },
  {
   "cell_type": "markdown",
   "metadata": {},
   "source": [
    "[2장: 43페이지]"
   ]
  },
  {
   "cell_type": "code",
   "execution_count": null,
   "metadata": {},
   "outputs": [],
   "source": [
    "list_num = [10, 20, 30, 40] # 숫자로 리스트를 구성\n",
    "list_str = ['programming', 'language', 'python'] # 문자열로 리스트를 구성\n",
    "list_mix1 = [1.5, 2.6, '문자열1', '문자열2'] # 숫자와 문자열로 리스트를 구성\n",
    "list_mix2 = [4.0, True, 'abc', list_mix1] # 숫자, 불, 문자열, 리스트로 리스트를 구성\n",
    "list_empty = [] # 요소가 없는 빈 리스트\n",
    "\n",
    "print(list_num)\n",
    "print(list_str)\n",
    "print(list_mix1)\n",
    "print(list_mix2)\n",
    "print(list_empty)"
   ]
  },
  {
   "cell_type": "markdown",
   "metadata": {},
   "source": [
    "[2장: 44페이지]"
   ]
  },
  {
   "cell_type": "code",
   "execution_count": null,
   "metadata": {},
   "outputs": [],
   "source": [
    "type(list_empty)"
   ]
  },
  {
   "cell_type": "code",
   "execution_count": null,
   "metadata": {},
   "outputs": [],
   "source": [
    "print(len(list_num))   # 요소의 개수: 4\n",
    "print(len(list_str))   # 요소의 개수: 3\n",
    "print(len(list_mix1))  # 요소의 개수: 4\n",
    "print(len(list_mix2))  # 요소의 개수: 4\n",
    "print(len(list_empty)) # 요소의 개수: 0"
   ]
  },
  {
   "cell_type": "markdown",
   "metadata": {},
   "source": [
    "#### 리스트 연산자"
   ]
  },
  {
   "cell_type": "markdown",
   "metadata": {},
   "source": [
    "[2장: 44페이지]"
   ]
  },
  {
   "cell_type": "code",
   "execution_count": null,
   "metadata": {},
   "outputs": [],
   "source": [
    "list_str1 = [\"기술이 \", \"강한 나라 \"]\n",
    "list_str2 = [\"우리나라 \", \"대한민국 \"]\n",
    "list_str3 = list_str1 + list_str2 # 두 리스트의 요소를 연결해서 새로운 리스트를 생성\n",
    "list_str4 = list_str2 * 2 # 리스트의 요소를 반복해서 연결한 후 새로운 리스트를 생성\n",
    "\n",
    "print(list_str3)\n",
    "print(list_str4)"
   ]
  },
  {
   "cell_type": "markdown",
   "metadata": {},
   "source": [
    "#### 리스트 인덱싱"
   ]
  },
  {
   "cell_type": "markdown",
   "metadata": {},
   "source": [
    "[2장: 45페이지]"
   ]
  },
  {
   "cell_type": "code",
   "execution_count": null,
   "metadata": {
    "scrolled": false
   },
   "outputs": [],
   "source": [
    "print(list_num)    # list_num 출력\n",
    "print(list_num[0]) # list_num의 첫 번째 요소를 가져옴 \n",
    "print(list_num[1]) # list_num의 두 번째 요소를 가져옴\n",
    "print(list_num[2]) # list_num의 세 번째 요소를 가져옴\n",
    "print(list_num[3]) # list_num의 네 번째 요소를 가져옴"
   ]
  },
  {
   "cell_type": "markdown",
   "metadata": {},
   "source": [
    "[2장: 46페이지]"
   ]
  },
  {
   "cell_type": "code",
   "execution_count": null,
   "metadata": {},
   "outputs": [],
   "source": [
    "print(list_num[-1]) # list_num의 마지막 요소를 가져옴\n",
    "print(list_num[-2]) # list_num의 마지막 요소 앞의 요소를 가져옴"
   ]
  },
  {
   "cell_type": "code",
   "execution_count": null,
   "metadata": {},
   "outputs": [],
   "source": [
    "print(list_mix2)       # list_mix2 출력\n",
    "print(list_mix2[3])    # list_mix2에서 네 번째 요소를 가져옴\n",
    "print(list_mix2[3][2]) # 네 번째 요소인 리스트에서 세 번째 요소를 가져옴"
   ]
  },
  {
   "cell_type": "code",
   "execution_count": null,
   "metadata": {},
   "outputs": [],
   "source": [
    "list_num1 = [100, 200, 300, 400] # 리스트 생성\n",
    "print(list_num1) \n",
    "\n",
    "list_num1[1] = 500 # 두 번째 요소에 새로운 데이터를 할당\n",
    "print(list_num1)"
   ]
  },
  {
   "cell_type": "markdown",
   "metadata": {},
   "source": [
    "[2장: 47페이지]"
   ]
  },
  {
   "cell_type": "code",
   "execution_count": null,
   "metadata": {},
   "outputs": [],
   "source": [
    "list_num2 = [0, 10, 20, 30, 40, 50] # 숫자로 리스트를 구성\n",
    "print(list_num2)\n",
    "\n",
    "del list_num2[2] # 리스트에서 인덱스가 2인 요소를 제거\n",
    "print(list_num2)"
   ]
  },
  {
   "cell_type": "markdown",
   "metadata": {},
   "source": [
    "#### 리스트 슬라이싱"
   ]
  },
  {
   "cell_type": "markdown",
   "metadata": {},
   "source": [
    "[2장: 48페이지]"
   ]
  },
  {
   "cell_type": "code",
   "execution_count": null,
   "metadata": {},
   "outputs": [],
   "source": [
    "list_num3 = [0, 10, 20, 30, 40, 50, 60, 70, 80, 90] # 리스트 생성\n",
    "\n",
    "print(list_num3)      # 리스트 출력\n",
    "print(list_num3[0:4]) # 인덱스 범위: 0~3\n",
    "print(list_num3[5:10]) # 인덱스 범위: 5~9"
   ]
  },
  {
   "cell_type": "code",
   "execution_count": null,
   "metadata": {},
   "outputs": [],
   "source": [
    "print(list_num3[:4]) # start를 생략. 인덱스 범위: 0~3\n",
    "print(list_num3[5:]) # end를 생략. 인덱스 범위: 5~끝(9)\n",
    "print(list_num3[:])  # start와 end 둘 다 생략. 인덱스 범위: 모든 인덱스"
   ]
  },
  {
   "cell_type": "markdown",
   "metadata": {},
   "source": [
    "#### 리스트 요소의 존재 여부 확인"
   ]
  },
  {
   "cell_type": "markdown",
   "metadata": {},
   "source": [
    "[2장: 49페이지]"
   ]
  },
  {
   "cell_type": "code",
   "execution_count": null,
   "metadata": {},
   "outputs": [],
   "source": [
    "list_num6 = [0, 1, 2, 3] # 리스트 생성\n",
    "\n",
    "print(2 in list_num6) # 2는 리스트에 있음: True 반환\n",
    "print(5 in list_num6) # 5는 리스트에 없음: False 반환"
   ]
  },
  {
   "cell_type": "markdown",
   "metadata": {},
   "source": [
    "#### 리스트 메서드"
   ]
  },
  {
   "cell_type": "markdown",
   "metadata": {},
   "source": [
    "[2장: 50페이지]"
   ]
  },
  {
   "cell_type": "code",
   "execution_count": null,
   "metadata": {},
   "outputs": [],
   "source": [
    "friends = ['토마스'] # 리스트를 생성\n",
    "print(friends)\n",
    "\n",
    "friends.append('고든') # 리스트의 끝에 요소('고든')를 추가\n",
    "print(friends)\n",
    "\n",
    "friends.append('에드워드') # 리스트의 끝에 요소('에드워드')를 추가\n",
    "print(friends)"
   ]
  },
  {
   "cell_type": "markdown",
   "metadata": {},
   "source": [
    "#### 다양한 리스트 메서드"
   ]
  },
  {
   "cell_type": "markdown",
   "metadata": {},
   "source": [
    "1. append(): 리스트 끝에 요소 하나를 추가\n",
    "2. insert(): 리스트의 특정 위치에 요소를 삽입\n",
    "3. extend(): 리스트 끝에 여러 요소를 추가\n",
    "4. remove(): 입력값과 첫번쨰로 일치하는 요소를 리스트에서 삭제\n",
    "5. pop(): 리스트의 마지막 요소를 꺼내옴\n",
    "6. index(): 리스트에서 입력값과 일치하는 첫번쨰 요소의 인덱스를 반환\n",
    "7. count(): 리스트에서 입력값과 일치하는 요소의 개수를 반환\n",
    "8. sort(): 숫자나 문자열로 구성된 리시트의 요소를 순방향으로 정렬 \n",
    "       - 역방향 정렬은 sort(reverse=True)\n",
    "9. reserve(): 리스트 요소의 순서를 역순으로 뒤집기"
   ]
  },
  {
   "cell_type": "markdown",
   "metadata": {},
   "source": [
    "### 2.1.6 튜플(tuple)"
   ]
  },
  {
   "cell_type": "markdown",
   "metadata": {},
   "source": [
    "#### 튜플 만들기"
   ]
  },
  {
   "cell_type": "markdown",
   "metadata": {},
   "source": [
    "[2장: 51페이지]"
   ]
  },
  {
   "cell_type": "code",
   "execution_count": 1,
   "metadata": {},
   "outputs": [
    {
     "name": "stdout",
     "output_type": "stream",
     "text": [
      "(0, 1, 2, 3, 4)\n",
      "(5, 6, 7, 8, 9)\n"
     ]
    }
   ],
   "source": [
    "tuple_num1 = (0, 1, 2, 3, 4) # 소괄호로 튜플을 생성\n",
    "tuple_num2 =  5, 6, 7, 8, 9  # 괄호 없이 튜플을 생성\n",
    "\n",
    "print(tuple_num1)\n",
    "print(tuple_num2)"
   ]
  },
  {
   "cell_type": "code",
   "execution_count": 2,
   "metadata": {},
   "outputs": [
    {
     "data": {
      "text/plain": [
       "tuple"
      ]
     },
     "execution_count": 2,
     "metadata": {},
     "output_type": "execute_result"
    }
   ],
   "source": [
    "type(tuple_num1)"
   ]
  },
  {
   "cell_type": "code",
   "execution_count": 3,
   "metadata": {},
   "outputs": [
    {
     "data": {
      "text/plain": [
       "tuple"
      ]
     },
     "execution_count": 3,
     "metadata": {},
     "output_type": "execute_result"
    }
   ],
   "source": [
    "type(tuple_num2)"
   ]
  },
  {
   "cell_type": "markdown",
   "metadata": {},
   "source": [
    "[2장: 52페이지]"
   ]
  },
  {
   "cell_type": "code",
   "execution_count": 4,
   "metadata": {},
   "outputs": [
    {
     "name": "stdout",
     "output_type": "stream",
     "text": [
      "(10,)\n",
      "('데이터1',)\n"
     ]
    }
   ],
   "source": [
    "tuple_num3 = (10, )      # 소괄호로 하나의 요소를 갖는 튜플 생성\n",
    "tuple_num4 =  \"데이터1\", # 괄호 없이 하나의 요소를 갖는 튜플 생성 \n",
    "\n",
    "print(tuple_num3)\n",
    "print(tuple_num4)"
   ]
  },
  {
   "cell_type": "markdown",
   "metadata": {},
   "source": [
    "#### 튜플 다루기"
   ]
  },
  {
   "cell_type": "markdown",
   "metadata": {},
   "source": [
    "[2장: 52페이지]"
   ]
  },
  {
   "cell_type": "code",
   "execution_count": 5,
   "metadata": {},
   "outputs": [
    {
     "name": "stdout",
     "output_type": "stream",
     "text": [
      "programming\n",
      "('programming', 'language', 'python', 1)\n"
     ]
    }
   ],
   "source": [
    "tuple_mixed1 = ('programming', 'language', 'python', 1, 2, 3) # 튜플 생성\n",
    "print(tuple_mixed1[0])   # 튜플 인덱싱\n",
    "print(tuple_mixed1[0:4]) # 튜플 슬라이싱(인덱스 0~3까지의 요소를 선택) "
   ]
  },
  {
   "cell_type": "code",
   "execution_count": 6,
   "metadata": {
    "scrolled": true
   },
   "outputs": [
    {
     "ename": "TypeError",
     "evalue": "'tuple' object does not support item assignment",
     "output_type": "error",
     "traceback": [
      "\u001b[1;31m---------------------------------------------------------------------------\u001b[0m",
      "\u001b[1;31mTypeError\u001b[0m                                 Traceback (most recent call last)",
      "Cell \u001b[1;32mIn[6], line 1\u001b[0m\n\u001b[1;32m----> 1\u001b[0m tuple_mixed1[\u001b[38;5;241m3\u001b[39m] \u001b[38;5;241m=\u001b[39m \u001b[38;5;241m10\u001b[39m\n",
      "\u001b[1;31mTypeError\u001b[0m: 'tuple' object does not support item assignment"
     ]
    }
   ],
   "source": [
    "tuple_mixed1[3] = 10 # 튜플의 요소를 변경할 수 없어서 오류가 발생\n",
    "del tuple_mixed1[3]  # 튜플의 요소를 삭제할 수 없어서 오류가 발생"
   ]
  },
  {
   "cell_type": "markdown",
   "metadata": {},
   "source": [
    "### 2.1.7 세트(set)"
   ]
  },
  {
   "cell_type": "markdown",
   "metadata": {},
   "source": [
    "#### 세트 만들기"
   ]
  },
  {
   "cell_type": "markdown",
   "metadata": {},
   "source": [
    "[2장: 53페이지]"
   ]
  },
  {
   "cell_type": "code",
   "execution_count": 7,
   "metadata": {},
   "outputs": [
    {
     "name": "stdout",
     "output_type": "stream",
     "text": [
      "{2, 3, 100, 5, 4, 10}\n",
      "{'귤', '사과', '배', '오렌지'}\n"
     ]
    }
   ],
   "source": [
    "# 요소의 순서가 없고 같은 요소끼리 중복되지 않는 것이 특징\n",
    "set_num = {10, 100, 2, 3, 4, 4, 5}\n",
    "set_str = {\"사과\", \"배\", \"오렌지\", \"귤\", \"귤\"}\n",
    "\n",
    "print(set_num)\n",
    "print(set_str)"
   ]
  },
  {
   "cell_type": "markdown",
   "metadata": {},
   "source": [
    "[2장: 54페이지]"
   ]
  },
  {
   "cell_type": "code",
   "execution_count": 8,
   "metadata": {},
   "outputs": [
    {
     "data": {
      "text/plain": [
       "set"
      ]
     },
     "execution_count": 8,
     "metadata": {},
     "output_type": "execute_result"
    }
   ],
   "source": [
    "type(set_str)"
   ]
  },
  {
   "cell_type": "code",
   "execution_count": 10,
   "metadata": {},
   "outputs": [
    {
     "ename": "TypeError",
     "evalue": "'set' object is not subscriptable",
     "output_type": "error",
     "traceback": [
      "\u001b[1;31m---------------------------------------------------------------------------\u001b[0m",
      "\u001b[1;31mTypeError\u001b[0m                                 Traceback (most recent call last)",
      "Cell \u001b[1;32mIn[10], line 1\u001b[0m\n\u001b[1;32m----> 1\u001b[0m set_num[\u001b[38;5;241m0\u001b[39m]\n",
      "\u001b[1;31mTypeError\u001b[0m: 'set' object is not subscriptable"
     ]
    }
   ],
   "source": [
    "set_num[0] # 순서가 없어 인덱싱이나 슬라이싱으로 접근 불가"
   ]
  },
  {
   "cell_type": "markdown",
   "metadata": {},
   "source": [
    "#### 세트의 교집합, 합집합, 차집합"
   ]
  },
  {
   "cell_type": "markdown",
   "metadata": {},
   "source": [
    "[2장: 54페이지]"
   ]
  },
  {
   "cell_type": "code",
   "execution_count": 11,
   "metadata": {},
   "outputs": [
    {
     "name": "stdout",
     "output_type": "stream",
     "text": [
      "{3, 4}\n",
      "{0, 1, 2, 3, 4, 5, 6, 7}\n",
      "{0, 1, 2}\n",
      "{3, 4}\n",
      "{0, 1, 2, 3, 4, 5, 6, 7}\n",
      "{0, 1, 2}\n"
     ]
    }
   ],
   "source": [
    "set_A = {0, 1, 2, 3, 4} # 세트(집합) A\n",
    "set_B = {3, 4, 5, 6, 7} # 세트(집합) B\n",
    "\n",
    "# &, |, - 연산자 사용\n",
    "print(set_A & set_B)    # 집합 A와 B의 교집합(A∩B)\n",
    "print(set_A | set_B)    # 집합 A와 B의 합집합(A∪B)\n",
    "print(set_A - set_B)    # 집합 A와 B의 차집합(A―B)\n",
    "\n",
    "# intersection(), union(), difference() 메서드 사용\n",
    "print(set_A.intersection(set_B)) # 집합 A와 B의 교집합(A∩B)\n",
    "print(set_A.union(set_B))        # 집합 A와 B의 합집합(A∪B)\n",
    "print(set_A.difference(set_B))   # 집합 A와 B의 차집합(A―B)"
   ]
  },
  {
   "cell_type": "markdown",
   "metadata": {},
   "source": [
    "### 2.1.8 딕셔너리(dict)"
   ]
  },
  {
   "cell_type": "markdown",
   "metadata": {},
   "source": [
    "#### 딕셔너리 만들기"
   ]
  },
  {
   "cell_type": "markdown",
   "metadata": {},
   "source": [
    "[2장: 55페이지]"
   ]
  },
  {
   "cell_type": "code",
   "execution_count": 12,
   "metadata": {},
   "outputs": [
    {
     "name": "stdout",
     "output_type": "stream",
     "text": [
      "{1: '사과', 2: '배', 3: '복숭아', 4: '딸기'}\n",
      "{1: 1234, 5: 5678, 7: 7890}\n",
      "{True: '맞습니다.', False: '아닙니다.'}\n",
      "{'ID_101': ['민준', 24], 'ID_102': ['서연', 27]}\n"
     ]
    }
   ],
   "source": [
    "dict_ex1 = {1:'사과', 2:'배', 3:'복숭아', 4:'딸기'}     # 키는 숫자, 값은 문자열\n",
    "dict_ex2 = {1:1234, 5:5678, 7:7890}                     # 키와 값이 모두 숫자\n",
    "dict_ex3 = {True: '맞습니다.', False:'아닙니다.'}      # 키는 불, 값은 문자열 \n",
    "dict_ex4 = {'ID_101':['민준',24], 'ID_102':['서연',27]} # 키는 문자열, 값은 리스트\n",
    "\n",
    "print(dict_ex1)\n",
    "print(dict_ex2)\n",
    "print(dict_ex3)\n",
    "print(dict_ex4)"
   ]
  },
  {
   "cell_type": "markdown",
   "metadata": {},
   "source": [
    "[2장: 56페이지]"
   ]
  },
  {
   "cell_type": "code",
   "execution_count": 13,
   "metadata": {},
   "outputs": [
    {
     "data": {
      "text/plain": [
       "dict"
      ]
     },
     "execution_count": 13,
     "metadata": {},
     "output_type": "execute_result"
    }
   ],
   "source": [
    "type(dict_ex4)"
   ]
  },
  {
   "cell_type": "code",
   "execution_count": 14,
   "metadata": {},
   "outputs": [
    {
     "data": {
      "text/plain": [
       "{'a': 10, 'b': 2.0, 'c': 'string', 'd': True, 'abc': [1, 2, 3]}"
      ]
     },
     "execution_count": 14,
     "metadata": {},
     "output_type": "execute_result"
    }
   ],
   "source": [
    "dict_ex5 = dict(a=10, b=2.0,  c='string', d=True, abc=[1,2,3])\n",
    "dict_ex5"
   ]
  },
  {
   "cell_type": "markdown",
   "metadata": {},
   "source": [
    "#### 딕셔너리 키로 값 선택, 변경, 추가, 삭제하기"
   ]
  },
  {
   "cell_type": "markdown",
   "metadata": {},
   "source": [
    "[2장: 57페이지]"
   ]
  },
  {
   "cell_type": "code",
   "execution_count": 15,
   "metadata": {},
   "outputs": [
    {
     "name": "stdout",
     "output_type": "stream",
     "text": [
      "사과\n",
      "7890\n",
      "맞습니다.\n",
      "['서연', 27]\n",
      "2.0\n"
     ]
    }
   ],
   "source": [
    "print(dict_ex1[1])\n",
    "print(dict_ex2[7])\n",
    "print(dict_ex3[True])\n",
    "print(dict_ex4['ID_102'])\n",
    "print(dict_ex5['b'])"
   ]
  },
  {
   "cell_type": "code",
   "execution_count": 16,
   "metadata": {},
   "outputs": [
    {
     "name": "stdout",
     "output_type": "stream",
     "text": [
      "{'이름': '박재민', '나이': 24}\n",
      "{'이름': '박재민', '나이': 25}\n",
      "{'이름': '박재민', '나이': 25, '취미': ['게임', '농구']}\n"
     ]
    }
   ],
   "source": [
    "dict_user = {\"이름\": \"박재민\", \"나이\": 24} # 딕셔너리 생성\n",
    "print(dict_user)\n",
    "\n",
    "dict_user[\"나이\"] = 25 # 기존 키로 값을 변경\n",
    "print(dict_user)\n",
    "\n",
    "dict_user[\"취미\"] = [\"게임\", \"농구\"] # 새로운 키와 값의 쌍을 추가\n",
    "print(dict_user)"
   ]
  },
  {
   "cell_type": "markdown",
   "metadata": {},
   "source": [
    "[2장: 58페이지]"
   ]
  },
  {
   "cell_type": "code",
   "execution_count": 17,
   "metadata": {
    "scrolled": true
   },
   "outputs": [
    {
     "name": "stdout",
     "output_type": "stream",
     "text": [
      "{'이름': '조수빈', '나이': 28, '취미': ['독서', '영화']}\n",
      "{'이름': '조수빈', '나이': 28}\n"
     ]
    }
   ],
   "source": [
    "dict_user2 = {'이름': '조수빈', '나이': 28, '취미': ['독서', '영화']}\n",
    "print(dict_user2)\n",
    "\n",
    "del dict_user2['취미'] # del을 이용해 딕셔너리의 특정 키와 값의 쌍을 삭제  \n",
    "print(dict_user2)"
   ]
  },
  {
   "cell_type": "markdown",
   "metadata": {},
   "source": [
    "#### 딕셔너리 키의 존재 여부 확인"
   ]
  },
  {
   "cell_type": "markdown",
   "metadata": {},
   "source": [
    "[2장: 58페이지]"
   ]
  },
  {
   "cell_type": "code",
   "execution_count": 18,
   "metadata": {},
   "outputs": [
    {
     "name": "stdout",
     "output_type": "stream",
     "text": [
      "True\n",
      "False\n"
     ]
    }
   ],
   "source": [
    "dict_vehicle = {'버스':1, '기차':2, '배':3, '비행기':4} # 딕셔너리 생성\n",
    "\n",
    "print('기차' in dict_vehicle) # dict_vehicle의 키에 '기차'는 있음\n",
    "print('택시' in dict_vehicle) # dict_vehicle의 키에 '택시'는 없음"
   ]
  },
  {
   "cell_type": "markdown",
   "metadata": {},
   "source": [
    "#### 딕셔너리 메서드"
   ]
  },
  {
   "cell_type": "markdown",
   "metadata": {},
   "source": [
    "1. keys(): 딕셔너리 키 전체를 리스트로 모아 반환\n",
    "2. values(): 딕셔너리 값 전체를 리스트로 모아 반환\n",
    "3. items(): 딕셔너리 키와 값 전체를 쌍으로 모아 튜블로 반환\n",
    "4. update(dict_new): 기존 딕셔너리에 새로운 키와 값 추가\n",
    "5. get(key_data):입력값이 딕셔너리 키에 있으면 대응하는 값을 반환하고 없으면 None 반환\n",
    "6. clear(): 딕셔너리 내 모든 키와 값 삭제. 빈 딕셔너리로 만듬"
   ]
  },
  {
   "cell_type": "markdown",
   "metadata": {},
   "source": [
    "[2장: 59페이지]"
   ]
  },
  {
   "cell_type": "code",
   "execution_count": 20,
   "metadata": {},
   "outputs": [
    {
     "name": "stdout",
     "output_type": "stream",
     "text": [
      "{0: 'a', 1: 'b', 2: 'c', 3: 'd', 4: 'e'}\n",
      "dict_keys([0, 1, 2, 3, 4])\n",
      "dict_values(['a', 'b', 'c', 'd', 'e'])\n",
      "dict_items([(0, 'a'), (1, 'b'), (2, 'c'), (3, 'd'), (4, 'e')])\n"
     ]
    }
   ],
   "source": [
    "dict_num_alpha = {0: 'a', 1: 'b', 2: 'c', 3: 'd', 4: 'e'} # 딕셔너리 생성\n",
    "print(dict_num_alpha)          # dict_num_alpha 출력\n",
    "print(dict_num_alpha.keys())   # 딕셔너리의 키를 가져옴\n",
    "print(dict_num_alpha.values()) # 딕셔너리의 값을 가져옴\n",
    "print(dict_num_alpha.items())  # 딕셔너리의 키와 값의 쌍을 가져옴"
   ]
  },
  {
   "cell_type": "markdown",
   "metadata": {},
   "source": [
    "[2장: 60페이지]"
   ]
  },
  {
   "cell_type": "code",
   "execution_count": 21,
   "metadata": {},
   "outputs": [
    {
     "name": "stdout",
     "output_type": "stream",
     "text": [
      "[0, 1, 2, 3, 4]\n",
      "['a', 'b', 'c', 'd', 'e']\n",
      "[(0, 'a'), (1, 'b'), (2, 'c'), (3, 'd'), (4, 'e')]\n"
     ]
    }
   ],
   "source": [
    "print(list(dict_num_alpha.keys()))   # 딕셔너리 키의 반환 결과를 리스트로 변환\n",
    "print(list(dict_num_alpha.values())) # 딕셔너리 값의 반환 결과를 리스트로 변환\n",
    "print(list(dict_num_alpha.items()))  # 딕셔너리 키와 값의 쌍 반환 결과를 리스트로 변환"
   ]
  },
  {
   "cell_type": "code",
   "execution_count": 22,
   "metadata": {},
   "outputs": [
    {
     "name": "stdout",
     "output_type": "stream",
     "text": [
      "{0: 'a', 1: 'b', 2: 'c', 3: 'd', 4: 'e'}\n",
      "{0: 'a', 1: 'b', 2: 'c', 3: 'd', 4: 'e', 5: 'f', 6: 'g'}\n"
     ]
    }
   ],
   "source": [
    "print(dict_num_alpha)             # 기존 딕셔너리 출력\n",
    "\n",
    "dict_new = {5: 'f', 6: 'g'}       # 딕셔너리 생성\n",
    "dict_num_alpha.update(dict_new)   # 기존 딕셔너리에 새로운 딕셔너리의 키와 값의 쌍을 추가\n",
    "print(dict_num_alpha)             # 새로운 딕셔너리 추가 후 딕셔너리 출력"
   ]
  },
  {
   "cell_type": "code",
   "execution_count": 23,
   "metadata": {},
   "outputs": [
    {
     "name": "stdout",
     "output_type": "stream",
     "text": [
      "b\n",
      "None\n"
     ]
    }
   ],
   "source": [
    "print(dict_num_alpha.get(1)) # 입력값이 딕셔너리 키에 있으면 대응하는 값을 반환 \n",
    "print(dict_num_alpha.get(7)) # 입력값이 딕셔너리 키에 없으면 None을 반환"
   ]
  },
  {
   "cell_type": "markdown",
   "metadata": {},
   "source": [
    "[2장: 61페이지]"
   ]
  },
  {
   "cell_type": "code",
   "execution_count": 24,
   "metadata": {},
   "outputs": [
    {
     "name": "stdout",
     "output_type": "stream",
     "text": [
      "{0: 'zero', 1: 'one', 2: 'two', 3: 'three'}\n",
      "{}\n"
     ]
    }
   ],
   "source": [
    "dict_num_eng = {0: 'zero', 1: 'one', 2: 'two', 3: 'three'}\n",
    "print(dict_num_eng)\n",
    "\n",
    "dict_num_eng.clear() # 딕셔너리의 모든 키와 값의 쌍을 삭제\n",
    "print(dict_num_eng)"
   ]
  },
  {
   "cell_type": "markdown",
   "metadata": {},
   "source": [
    "## 2.2 제어문"
   ]
  },
  {
   "cell_type": "markdown",
   "metadata": {},
   "source": [
    "### 2.2.1 조건문"
   ]
  },
  {
   "cell_type": "markdown",
   "metadata": {},
   "source": [
    "#### 단일 조건에 따른 분기: if"
   ]
  },
  {
   "cell_type": "markdown",
   "metadata": {},
   "source": [
    "[2장: 62페이지]"
   ]
  },
  {
   "cell_type": "code",
   "execution_count": 25,
   "metadata": {},
   "outputs": [
    {
     "name": "stdout",
     "output_type": "stream",
     "text": [
      "합격\n"
     ]
    }
   ],
   "source": [
    "x = 95           # x에 95를 할당\n",
    "\n",
    "if x >= 90:      # <조건>\n",
    "    print(\"합격\") # <조건>이 참이면 <코드 블록>을 수행"
   ]
  },
  {
   "cell_type": "markdown",
   "metadata": {},
   "source": [
    "#### 단일 조건과 그 외에 따른 분기: if ~ else"
   ]
  },
  {
   "cell_type": "markdown",
   "metadata": {},
   "source": [
    "[2장: 63페이지]"
   ]
  },
  {
   "cell_type": "code",
   "execution_count": 26,
   "metadata": {},
   "outputs": [
    {
     "name": "stdout",
     "output_type": "stream",
     "text": [
      "죄송합니다.\n",
      "당신은 불합격입니다.\n"
     ]
    }
   ],
   "source": [
    "x = 85                            # x에 85를 할당\n",
    "\n",
    "if x >= 90:                      # <조건>\n",
    "    print(\"축하합니다.\")          # <코드 블록 1>\n",
    "    print(\"당신은 합격입니다.\")   # <조건>이 참이면 <코드 블록 1>을 수행\n",
    "else:\n",
    "    print(\"죄송합니다.\")          # <코드 블록 2>\n",
    "    print(\"당신은 불합격입니다.\") # <조건>이 참이 아니면 <코드 블록 2>를 수행"
   ]
  },
  {
   "cell_type": "markdown",
   "metadata": {},
   "source": [
    "#### 여러 조건에 따른 분기: if ~ elif ~ else"
   ]
  },
  {
   "cell_type": "markdown",
   "metadata": {},
   "source": [
    "[2장: 64페이지]"
   ]
  },
  {
   "cell_type": "code",
   "execution_count": 27,
   "metadata": {},
   "outputs": [
    {
     "name": "stdout",
     "output_type": "stream",
     "text": [
      "학점: C\n"
     ]
    }
   ],
   "source": [
    "x = 75                # x에 75를 할당\n",
    "\n",
    "if x >= 90:           # <조건1>\n",
    "    print(\"학점: A\")  # <코드 블록 1>\n",
    "elif  80 <= x < 90:  # <조건2>: 80 <= x < 90는 (x >= 80) and (x < 90)과 같음  \n",
    "    print(\"학점: B\")  # <코드 블록 2>\n",
    "elif  70 <= x < 80:  # <조건3>\n",
    "    print(\"학점: C\")  # <코드 블록 3>\n",
    "else:\n",
    "    print(\"학점: D\")  # <코드 블록 4>"
   ]
  },
  {
   "cell_type": "code",
   "execution_count": 28,
   "metadata": {},
   "outputs": [
    {
     "name": "stdout",
     "output_type": "stream",
     "text": [
      "만점으로 합격\n"
     ]
    }
   ],
   "source": [
    "x = 100\n",
    "\n",
    "if x >= 90:\n",
    "    if x == 100:\n",
    "        print(\"만점으로 합격\")\n",
    "    else:\n",
    "        print(\"합격\")\n",
    "else:\n",
    "    print(\"불합격\")"
   ]
  },
  {
   "cell_type": "markdown",
   "metadata": {},
   "source": [
    "### 2.2.2 반복문"
   ]
  },
  {
   "cell_type": "markdown",
   "metadata": {},
   "source": [
    "#### for 반복문"
   ]
  },
  {
   "cell_type": "markdown",
   "metadata": {},
   "source": [
    "[2장: 65페이지]"
   ]
  },
  {
   "cell_type": "code",
   "execution_count": 30,
   "metadata": {},
   "outputs": [
    {
     "name": "stdout",
     "output_type": "stream",
     "text": [
      "0\n",
      "1\n",
      "2\n",
      "3\n",
      "4\n",
      "5\n"
     ]
    }
   ],
   "source": [
    "for num in [0, 1, 2, 3, 4, 5]:\n",
    "    print(num)"
   ]
  },
  {
   "cell_type": "markdown",
   "metadata": {},
   "source": [
    "[2장: 66페이지]"
   ]
  },
  {
   "cell_type": "code",
   "execution_count": 31,
   "metadata": {},
   "outputs": [
    {
     "data": {
      "text/plain": [
       "[0, 1, 2, 3, 4, 5, 6, 7, 8, 9]"
      ]
     },
     "execution_count": 31,
     "metadata": {},
     "output_type": "execute_result"
    }
   ],
   "source": [
    "list(range(0, 10, 1))"
   ]
  },
  {
   "cell_type": "code",
   "execution_count": 32,
   "metadata": {},
   "outputs": [
    {
     "data": {
      "text/plain": [
       "[0, 1, 2, 3, 4, 5, 6, 7, 8, 9]"
      ]
     },
     "execution_count": 32,
     "metadata": {},
     "output_type": "execute_result"
    }
   ],
   "source": [
    "list(range(10))"
   ]
  },
  {
   "cell_type": "code",
   "execution_count": 33,
   "metadata": {},
   "outputs": [
    {
     "name": "stdout",
     "output_type": "stream",
     "text": [
      "0\n",
      "1\n",
      "2\n",
      "3\n",
      "4\n",
      "5\n"
     ]
    }
   ],
   "source": [
    "for num in range(6):\n",
    "    print(num)"
   ]
  },
  {
   "cell_type": "markdown",
   "metadata": {},
   "source": [
    "[2장: 67페이지]"
   ]
  },
  {
   "cell_type": "code",
   "execution_count": 35,
   "metadata": {
    "scrolled": true
   },
   "outputs": [
    {
     "name": "stdout",
     "output_type": "stream",
     "text": [
      "0 10\n",
      "1 20\n",
      "2 30\n",
      "3 40\n"
     ]
    }
   ],
   "source": [
    "# 리스트 각요소를 인덱스와 값을 함께 이용: enumerate(list)\n",
    "list_num = [10, 20, 30, 40]\n",
    "\n",
    "for index, value in enumerate(list_num):\n",
    "     print(index, value)"
   ]
  },
  {
   "cell_type": "code",
   "execution_count": 36,
   "metadata": {},
   "outputs": [],
   "source": [
    "names = [\"남온조\", \"이청산\", \"최남라\", \"이수혁\", \"이나연\", \"양대수\"] # 이름\n",
    "scores = [96, 85, 100, 70, 80, 75] # 시험점수"
   ]
  },
  {
   "cell_type": "code",
   "execution_count": 37,
   "metadata": {
    "scrolled": true
   },
   "outputs": [
    {
     "name": "stdout",
     "output_type": "stream",
     "text": [
      "남온조 96\n",
      "이청산 85\n",
      "최남라 100\n",
      "이수혁 70\n",
      "이나연 80\n",
      "양대수 75\n"
     ]
    }
   ],
   "source": [
    "for k in range(len(names)):\n",
    "    print(names[k], scores[k])"
   ]
  },
  {
   "cell_type": "markdown",
   "metadata": {},
   "source": [
    "[2장: 68페이지]"
   ]
  },
  {
   "cell_type": "code",
   "execution_count": 39,
   "metadata": {},
   "outputs": [
    {
     "name": "stdout",
     "output_type": "stream",
     "text": [
      "남온조 96\n",
      "이청산 85\n",
      "최남라 100\n",
      "이수혁 70\n",
      "이나연 80\n",
      "양대수 75\n"
     ]
    }
   ],
   "source": [
    "# 같은 길이의 리스트를 하나로 묶음: zip(list_one, list_two)\n",
    "for name, score in zip(names, scores):\n",
    "    print(name, score)"
   ]
  },
  {
   "cell_type": "markdown",
   "metadata": {},
   "source": [
    "#### while 반복문"
   ]
  },
  {
   "cell_type": "markdown",
   "metadata": {},
   "source": [
    "[2장: 69페이지]"
   ]
  },
  {
   "cell_type": "code",
   "execution_count": 40,
   "metadata": {},
   "outputs": [
    {
     "name": "stdout",
     "output_type": "stream",
     "text": [
      "[0, 1, 2, 3, 4, 5, 6, 7, 8, 9]\n"
     ]
    }
   ],
   "source": [
    "list_num = []   # 빈 리스트 생성\n",
    "count = 0       # count를 0으로 초기화\n",
    "\n",
    "while (count < 10):        # <조건> count가 10보다 작은지 검사 \n",
    "    list_num.append(count)  # <코드 블록> list_num에 count 추가\n",
    "    count = count + 1       # <코드 블록> count를 1씩 증가\n",
    "    \n",
    "print(list_num) # 리스트 list_num의 내용을 출력"
   ]
  },
  {
   "cell_type": "markdown",
   "metadata": {},
   "source": [
    "#### 반복의 흐름을 바꾸는 break와 continue"
   ]
  },
  {
   "cell_type": "markdown",
   "metadata": {},
   "source": [
    "[2장: 69페이지]"
   ]
  },
  {
   "cell_type": "code",
   "execution_count": 41,
   "metadata": {},
   "outputs": [
    {
     "name": "stdout",
     "output_type": "stream",
     "text": [
      "1\n",
      "3\n",
      "6\n",
      "10\n",
      "while 문을 끝냅니다.\n"
     ]
    }
   ],
   "source": [
    "num = [1, 2, 3, 4, 5, 6]\n",
    "num_sum = 0 # 숫자의 합계를 0으로 초기화\n",
    "count = 0 # count를 0으로 초기화\n",
    "\n",
    "while True:\n",
    "    num_sum = num_sum + num[count] # 리스트 num의 요소를 하나씩 더함\n",
    "    print(num_sum)\n",
    "    if (num_sum >= 10): # 합계(num_sum)가 10 이상인지 검사\n",
    "        print(\"while 문을 끝냅니다.\")\n",
    "        break # while 문을 끝냄\n",
    "    \n",
    "    count = count + 1 # count를 1씩 증가"
   ]
  },
  {
   "cell_type": "markdown",
   "metadata": {},
   "source": [
    "[2장: 70페이지]"
   ]
  },
  {
   "cell_type": "code",
   "execution_count": 42,
   "metadata": {},
   "outputs": [
    {
     "name": "stdout",
     "output_type": "stream",
     "text": [
      "해당 월의 데이터를 제외합니다.\n",
      "221\n"
     ]
    }
   ],
   "source": [
    "months = [1, 2, 3, 4, 5, 6, 7, 8, 9, 10, 11, 12]\n",
    "months_data = [15, 21, 33, 17, 19, 22, 16, 25, 27, 18, 13, 14]\n",
    "data_sum = 0 # 숫자 합계를 초기화\n",
    "\n",
    "for month, data in zip(months, months_data):\n",
    "    if(month == 5):\n",
    "        print('해당 월의 데이터를 제외합니다.')\n",
    "        continue # 이후 코드는 실행하지 않고 다음 반복으로 넘어감\n",
    "    data_sum = data_sum + data # 월별 데이터의 합계를 구함\n",
    "    \n",
    "print(data_sum) # for 문에서 계산된 전체 합계를 출력"
   ]
  },
  {
   "cell_type": "markdown",
   "metadata": {},
   "source": [
    "#### 한 줄 for 반목문"
   ]
  },
  {
   "cell_type": "markdown",
   "metadata": {},
   "source": [
    "[2장: 71페이지]"
   ]
  },
  {
   "cell_type": "code",
   "execution_count": 43,
   "metadata": {},
   "outputs": [
    {
     "name": "stdout",
     "output_type": "stream",
     "text": [
      "[1, 3, 5, 7, 9, 11, 13, 15, 17, 19]\n"
     ]
    }
   ],
   "source": [
    "numbers = [0, 1, 2, 3, 4, 5, 6, 7, 8, 9] # 리스트 생성\n",
    "\n",
    "# 리스트의 각 요소에 2*x+1 연산을 수행해서 새로운 리스트 생성\n",
    "result = [2*x+1 for x in numbers]\n",
    "\n",
    "print(result) # 생성한 리스트 출력"
   ]
  },
  {
   "cell_type": "code",
   "execution_count": 44,
   "metadata": {},
   "outputs": [
    {
     "name": "stdout",
     "output_type": "stream",
     "text": [
      "[7, 9, 11, 13, 15, 17, 19]\n"
     ]
    }
   ],
   "source": [
    "numbers = [0, 1, 2, 3, 4, 5, 6, 7, 8, 9] # 리스트 생성\n",
    "\n",
    "# x >=3 조건을 만족할 때만 2*x+1 연산을 수행\n",
    "result = [2*x+1 for x in numbers if x>=3]\n",
    "\n",
    "print(result) # 생성한 리스트 출력"
   ]
  },
  {
   "cell_type": "markdown",
   "metadata": {},
   "source": [
    "## 2.3 데이터의 출력 "
   ]
  },
  {
   "cell_type": "markdown",
   "metadata": {},
   "source": [
    "### 2.3.1 기본 출력"
   ]
  },
  {
   "cell_type": "markdown",
   "metadata": {},
   "source": [
    "[2장: 72페이지]"
   ]
  },
  {
   "cell_type": "code",
   "execution_count": 45,
   "metadata": {},
   "outputs": [
    {
     "name": "stdout",
     "output_type": "stream",
     "text": [
      "1 2 3 4 5\n",
      "a b c d e\n",
      "123 abc True\n",
      "['abc', 123, 'def'] {'a': 1, 'b': 2}\n"
     ]
    }
   ],
   "source": [
    "print(1, 2, 3, 4, 5) # 숫자 출력\n",
    "print('a', 'b', 'c', 'd', 'e') # 문자 출력\n",
    "print(123, \"abc\", True) # 숫자, 문자, 불 출력\n",
    "print(['abc', 123, 'def'], {\"a\": 1, \"b\": 2}) # 리스트와 딕셔너리 출력"
   ]
  },
  {
   "cell_type": "markdown",
   "metadata": {},
   "source": [
    "[2장: 73페이지]"
   ]
  },
  {
   "cell_type": "code",
   "execution_count": 46,
   "metadata": {},
   "outputs": [
    {
     "name": "stdout",
     "output_type": "stream",
     "text": [
      "합계:\n",
      "90\n",
      "합계:90\n"
     ]
    }
   ],
   "source": [
    "print(\"합계:\") # end 옵션이 없으면 개행문자가 들어가서 줄 바꿈 수행\n",
    "print(90)\n",
    "print(\"합계:\", end='') # end 옵션에 빈 문자열을 입력해 줄 바꿈이 없도록 함\n",
    "print(90)"
   ]
  },
  {
   "cell_type": "code",
   "execution_count": 47,
   "metadata": {},
   "outputs": [
    {
     "name": "stdout",
     "output_type": "stream",
     "text": [
      "나는 파이썬을 이용해 \n",
      "많은 업무를 \n",
      "자동화합니다.\n"
     ]
    }
   ],
   "source": [
    "print(\"나는 파이썬을 이용해 \\n많은 업무를 \\n자동화합니다.\")"
   ]
  },
  {
   "cell_type": "markdown",
   "metadata": {},
   "source": [
    "### 2.3.2 형식 지정 출력"
   ]
  },
  {
   "cell_type": "markdown",
   "metadata": {},
   "source": [
    "[2장: 73페이지]"
   ]
  },
  {
   "cell_type": "code",
   "execution_count": 48,
   "metadata": {},
   "outputs": [
    {
     "name": "stdout",
     "output_type": "stream",
     "text": [
      "문자열 출력: Banana, Apple, Orange\n",
      "문자열 출력: Orange, Banana, Apple\n"
     ]
    }
   ],
   "source": [
    "# .format()을 사용해서  출력위치와 형식을 지정할 수 있음\n",
    "fruit_0 = \"Banana\"\n",
    "fruit_1 = \"Apple\"\n",
    "fruit_2 = \"Orange\"\n",
    "\n",
    "print(\"문자열 출력: {0}, {1}, {2}\".format(fruit_0, fruit_1, fruit_2))\n",
    "print(\"문자열 출력: {2}, {0}, {1}\".format(fruit_0, fruit_1, fruit_2))"
   ]
  },
  {
   "cell_type": "markdown",
   "metadata": {},
   "source": [
    "[2장: 74페이지]"
   ]
  },
  {
   "cell_type": "code",
   "execution_count": 49,
   "metadata": {},
   "outputs": [
    {
     "name": "stdout",
     "output_type": "stream",
     "text": [
      "문자열 출력: Banana, Apple, Orange\n"
     ]
    }
   ],
   "source": [
    "# {}안에 숫자없으면은 걍 순서대로 출력\n",
    "print(\"문자열 출력: {}, {}, {}\".format(fruit_0, fruit_1, fruit_2))"
   ]
  },
  {
   "cell_type": "code",
   "execution_count": 50,
   "metadata": {},
   "outputs": [
    {
     "name": "stdout",
     "output_type": "stream",
     "text": [
      "숫자 출력: 123, 3.141592653589793\n"
     ]
    }
   ],
   "source": [
    "num_int = 123\n",
    "num_float= 3.14159265358979323846 \n",
    "\n",
    "print(\"숫자 출력: {0}, {1}\".format(num_int, num_float))"
   ]
  },
  {
   "cell_type": "markdown",
   "metadata": {},
   "source": [
    "[2장: 75페이지]"
   ]
  },
  {
   "cell_type": "code",
   "execution_count": 51,
   "metadata": {},
   "outputs": [
    {
     "name": "stdout",
     "output_type": "stream",
     "text": [
      "[숫자(정수)의 출력 형식을 지정하지 않고 출력]\n",
      "1\n",
      "12\n",
      "123\n",
      "1234\n",
      "12345\n",
      "\n",
      "[숫자(정수)의 출력 형식을 지정해 출력]\n",
      "     1\n",
      "    12\n",
      "   123\n",
      "  1234\n",
      " 12345\n"
     ]
    }
   ],
   "source": [
    "list_num_ints = [1, 12, 123, 1234, 12345] # 리스트 생성\n",
    "\n",
    "print(\"[숫자(정수)의 출력 형식을 지정하지 않고 출력]\")\n",
    "for list_num_int in list_num_ints:\n",
    "    print(\"{0}\".format(list_num_int)) # 출력 형식 미지정\n",
    "    \n",
    "print(\"\\n[숫자(정수)의 출력 형식을 지정해 출력]\")\n",
    "for list_num_int in list_num_ints:\n",
    "    print(\"{0:6d}\".format(list_num_int)) # 출력 형식(정수의 출력 자리 개수) 지정"
   ]
  },
  {
   "cell_type": "code",
   "execution_count": 52,
   "metadata": {
    "scrolled": true
   },
   "outputs": [
    {
     "name": "stdout",
     "output_type": "stream",
     "text": [
      "[숫자(실수)의 출력 형식을 지정해 출력]\n",
      "3.14, 3.14159, 3\n"
     ]
    }
   ],
   "source": [
    "print(\"[숫자(실수)의 출력 형식을 지정해 출력]\")\n",
    "print(\"{0:.2f}, {0:.5f}, {0:.0f}\".format(num_float))"
   ]
  },
  {
   "cell_type": "markdown",
   "metadata": {},
   "source": [
    "[2장: 76페이지]"
   ]
  },
  {
   "cell_type": "code",
   "execution_count": 53,
   "metadata": {},
   "outputs": [
    {
     "name": "stdout",
     "output_type": "stream",
     "text": [
      "변환 결과: 섭씨 10.5도 → 화씨 50.9도\n"
     ]
    }
   ],
   "source": [
    "temp_c = 10.5 # 섭씨 온도\n",
    "temp_f = (temp_c * 9/5) + 32 # 변환된 화씨 온도로 변환\n",
    "\n",
    "# string.format() 의 결과를 변수에 할당\n",
    "format_str = \"변환 결과: 섭씨 {0:.1f}도 → 화씨 {1:.1f}도\".format(temp_c, temp_f)\n",
    "\n",
    "print(format_str) # 변수의 내용을 출력"
   ]
  },
  {
   "cell_type": "code",
   "execution_count": 54,
   "metadata": {},
   "outputs": [
    {
     "name": "stdout",
     "output_type": "stream",
     "text": [
      "고객 이름:홍길동, 고객 번호:1234-5678\n"
     ]
    }
   ],
   "source": [
    "user_name = \"홍길동\" \n",
    "user_number = \"1234-5678\"\n",
    "\n",
    "print(\"고객 이름:{name}, 고객 번호:{number}\".format(name=user_name, number=user_number))"
   ]
  },
  {
   "cell_type": "markdown",
   "metadata": {},
   "source": [
    "[2장: 77페이지]"
   ]
  },
  {
   "cell_type": "code",
   "execution_count": 55,
   "metadata": {},
   "outputs": [
    {
     "name": "stdout",
     "output_type": "stream",
     "text": [
      "이름: 최서희, 전화번호: 010-xyz-1234\n"
     ]
    }
   ],
   "source": [
    "name = \"최서희\"\n",
    "phone_number = \"010-xyz-1234\"\n",
    "\n",
    "print(f\"이름: {name}, 전화번호: {phone_number}\") # f-문자열 방식을 이용한 출력"
   ]
  },
  {
   "cell_type": "code",
   "execution_count": 56,
   "metadata": {},
   "outputs": [
    {
     "name": "stdout",
     "output_type": "stream",
     "text": [
      "제품 가격: 57,250,000원\n",
      "파이(소수점 6자리까지): 3.141592\n",
      "반지름이 2인 원의 넓이: 12.57\n"
     ]
    }
   ],
   "source": [
    "r = 2 # 반지름 \n",
    "pi = 3.141592 # 파이\n",
    "\n",
    "print(f\"제품 가격: {57250000:,}원\") # {표현내용}에 값을 직접 입력\n",
    "print(f\"파이(소수점 6자리까지): {pi:.6f}\") # {표현내용}에 변수를 입력\n",
    "print(F\"반지름이 {r}인 원의 넓이: {pi*r**2:.2f}\") # {표현내용}에 계산식을 입력"
   ]
  },
  {
   "cell_type": "markdown",
   "metadata": {},
   "source": [
    "## 2.4 예외 처리"
   ]
  },
  {
   "cell_type": "markdown",
   "metadata": {},
   "source": [
    "### 2.4.1 try ~ except 사용"
   ]
  },
  {
   "cell_type": "markdown",
   "metadata": {},
   "source": [
    "[2장: 78페이지]"
   ]
  },
  {
   "cell_type": "code",
   "execution_count": 57,
   "metadata": {},
   "outputs": [
    {
     "ename": "ZeroDivisionError",
     "evalue": "division by zero",
     "output_type": "error",
     "traceback": [
      "\u001b[1;31m---------------------------------------------------------------------------\u001b[0m",
      "\u001b[1;31mZeroDivisionError\u001b[0m                         Traceback (most recent call last)",
      "Cell \u001b[1;32mIn[57], line 1\u001b[0m\n\u001b[1;32m----> 1\u001b[0m \u001b[38;5;241m10\u001b[39m\u001b[38;5;241m/\u001b[39m\u001b[38;5;241m0\u001b[39m\n",
      "\u001b[1;31mZeroDivisionError\u001b[0m: division by zero"
     ]
    }
   ],
   "source": [
    "10/0"
   ]
  },
  {
   "cell_type": "markdown",
   "metadata": {},
   "source": [
    "[2장: 79페이지]"
   ]
  },
  {
   "cell_type": "code",
   "execution_count": 58,
   "metadata": {},
   "outputs": [
    {
     "name": "stdout",
     "output_type": "stream",
     "text": [
      "실행 중 오류가 발생했습니다.\n"
     ]
    }
   ],
   "source": [
    "try:\n",
    "    10/0\n",
    "except:\n",
    "    print(\"실행 중 오류가 발생했습니다.\")"
   ]
  },
  {
   "cell_type": "code",
   "execution_count": 59,
   "metadata": {},
   "outputs": [
    {
     "name": "stdout",
     "output_type": "stream",
     "text": [
      "실행 중 숫자를 0으로 나누었습니다.\n"
     ]
    }
   ],
   "source": [
    "try:\n",
    "    10/0\n",
    "except ZeroDivisionError:\n",
    "    print(\"실행 중 숫자를 0으로 나누었습니다.\")"
   ]
  },
  {
   "cell_type": "code",
   "execution_count": 60,
   "metadata": {},
   "outputs": [
    {
     "name": "stdout",
     "output_type": "stream",
     "text": [
      "k = 1\n",
      "k = 2\n",
      "k = 3. 일부러 오류 발생\n",
      "실행 중 오류가 발생했습니다.\n"
     ]
    }
   ],
   "source": [
    "try:\n",
    "    for k in [1,2,3]:\n",
    "        if(k==3):\n",
    "            print(\"k = {0}. 일부러 오류 발생\".format(k))\n",
    "            raise\n",
    "        else:\n",
    "            print(\"k = {0}\".format(k))\n",
    "except:\n",
    "    print(\"실행 중 오류가 발생했습니다.\")"
   ]
  },
  {
   "cell_type": "markdown",
   "metadata": {},
   "source": [
    "### 2.4.2 try ~ finally 사용"
   ]
  },
  {
   "cell_type": "markdown",
   "metadata": {},
   "source": [
    "[2장: 80페이지]"
   ]
  },
  {
   "cell_type": "code",
   "execution_count": 61,
   "metadata": {},
   "outputs": [
    {
     "name": "stdout",
     "output_type": "stream",
     "text": [
      "오류가 발생했습니다.\n",
      "tuple_num = (1, 2, 3)\n"
     ]
    }
   ],
   "source": [
    "tuple_num = (1,2,3) # 튜플 데이터\n",
    "\n",
    "try:\n",
    "    tuple_num[0] = 4 # 튜플의 요소를 변경할 수 없어 오류 발생\n",
    "except:\n",
    "    print(\"오류가 발생했습니다.\")\n",
    "finally:\n",
    "    print(\"tuple_num = {0}\".format(tuple_num))"
   ]
  }
 ],
 "metadata": {
  "kernelspec": {
   "display_name": "Python 3 (ipykernel)",
   "language": "python",
   "name": "python3"
  },
  "language_info": {
   "codemirror_mode": {
    "name": "ipython",
    "version": 3
   },
   "file_extension": ".py",
   "mimetype": "text/x-python",
   "name": "python",
   "nbconvert_exporter": "python",
   "pygments_lexer": "ipython3",
   "version": "3.11.4"
  },
  "toc": {
   "base_numbering": "2",
   "nav_menu": {},
   "number_sections": false,
   "sideBar": true,
   "skip_h1_title": false,
   "title_cell": "Table of Contents",
   "title_sidebar": "Contents",
   "toc_cell": false,
   "toc_position": {
    "height": "calc(100% - 180px)",
    "left": "10px",
    "top": "150px",
    "width": "268.4px"
   },
   "toc_section_display": true,
   "toc_window_display": false
  }
 },
 "nbformat": 4,
 "nbformat_minor": 2
}
